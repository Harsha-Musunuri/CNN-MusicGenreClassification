{
  "nbformat": 4,
  "nbformat_minor": 0,
  "metadata": {
    "accelerator": "GPU",
    "colab": {
      "name": "deepMusicNotebook.ipynb",
      "provenance": [],
      "collapsed_sections": [],
      "toc_visible": true,
      "include_colab_link": true
    },
    "kernelspec": {
      "display_name": "Python 3",
      "language": "python",
      "name": "python3"
    },
    "language_info": {
      "codemirror_mode": {
        "name": "ipython",
        "version": 3
      },
      "file_extension": ".py",
      "mimetype": "text/x-python",
      "name": "python",
      "nbconvert_exporter": "python",
      "pygments_lexer": "ipython3",
      "version": "3.7.7"
    }
  },
  "cells": [
    {
      "cell_type": "markdown",
      "metadata": {
        "id": "view-in-github",
        "colab_type": "text"
      },
      "source": [
        "<a href=\"https://colab.research.google.com/github/Harsha-Musunuri/CNN-MusicGenreClassification/blob/master/deepMusicNotebook.ipynb\" target=\"_parent\"><img src=\"https://colab.research.google.com/assets/colab-badge.svg\" alt=\"Open In Colab\"/></a>"
      ]
    },
    {
      "cell_type": "markdown",
      "metadata": {
        "id": "cNnM2w-HCeb1"
      },
      "source": [
        "# Music genre classification notebook"
      ]
    },
    {
      "cell_type": "markdown",
      "metadata": {
        "id": "2l3sppZMCydR"
      },
      "source": [
        "## Importing Libraries"
      ]
    },
    {
      "cell_type": "code",
      "metadata": {
        "id": "Gt3fyg6dCNvX"
      },
      "source": [
        "# feature extractoring and preprocessing data\n",
        "import librosa\n",
        "import pandas as pd\n",
        "import numpy as np\n",
        "import matplotlib.pyplot as plt\n",
        "%matplotlib inline\n",
        "import os\n",
        "from PIL import Image\n",
        "import pathlib\n",
        "import csv\n",
        "\n",
        "# Preprocessing\n",
        "from sklearn.model_selection import train_test_split\n",
        "from sklearn.preprocessing import LabelEncoder, StandardScaler\n",
        "\n",
        "#Tensorflow\n",
        "import tensorflow as tf\n",
        "\n",
        "import warnings\n",
        "warnings.filterwarnings('ignore')"
      ],
      "execution_count": 1,
      "outputs": []
    },
    {
      "cell_type": "code",
      "metadata": {
        "id": "MYHygoYx3qXG",
        "outputId": "57ce6267-608e-4efc-a0be-6fd72e1e9984",
        "colab": {
          "base_uri": "https://localhost:8080/",
          "height": 34
        }
      },
      "source": [
        "from google.colab import drive\n",
        "\n",
        "drive.mount('/content/drive')"
      ],
      "execution_count": 2,
      "outputs": [
        {
          "output_type": "stream",
          "text": [
            "Mounted at /content/drive\n"
          ],
          "name": "stdout"
        }
      ]
    },
    {
      "cell_type": "markdown",
      "metadata": {
        "id": "DPe_ebYuDqr5"
      },
      "source": [
        "## Extracting music and features\n",
        "\n",
        "### Dataset\n",
        "\n",
        "[GTZAN genre collection](http://marsyasweb.appspot.com/download/data_sets/) dataset for classification. \n",
        "<br>\n",
        "<br>\n",
        "The dataset consists of 10 genres i.e\n",
        " * Blues\n",
        " * Classical\n",
        " * Country\n",
        " * Disco\n",
        " * Hiphop\n",
        " * Jazz\n",
        " * Metal\n",
        " * Pop\n",
        " * Reggae\n",
        " * Rock\n",
        " \n",
        "Each genre contains 100 songs. Total dataset: 1000 songs"
      ]
    },
    {
      "cell_type": "markdown",
      "metadata": {
        "id": "AfBSVfRCD3PE"
      },
      "source": [
        "## Extracting the Spectrogram for every Audio"
      ]
    },
    {
      "cell_type": "code",
      "metadata": {
        "id": "BHh3pTEVDdrT"
      },
      "source": [
        "# cmap = plt.get_cmap('inferno')\n",
        "\n",
        "# plt.figure(figsize=(10,10))\n",
        "# genres = 'blues classical country disco hiphop jazz metal pop reggae rock'.split()\n",
        "# for g in genres:\n",
        "#     pathlib.Path(f'/content/drive/My Drive/datasets/img_data/{g}').mkdir(parents=True, exist_ok=True)     \n",
        "#     for filename in os.listdir(f'/content/drive/My Drive/datasets/genres/{g}'):\n",
        "#         songname = f'/content/drive/My Drive/datasets/genres/{g}/{filename}'\n",
        "#         y, sr = librosa.load(songname, mono=True, duration=5)\n",
        "#         plt.specgram(y, NFFT=2048, Fs=2, Fc=0, noverlap=128, cmap=cmap, sides='default', mode='default', scale='dB');\n",
        "#         plt.axis('off');\n",
        "#         plt.savefig(f'/content/drive/My Drive/datasets/img_data/{g}/{filename[:-3].replace(\".\", \"\")}.png')\n",
        "#         plt.clf()\n",
        " "
      ],
      "execution_count": 2,
      "outputs": []
    },
    {
      "cell_type": "markdown",
      "metadata": {
        "id": "SszVgjYnFNX9"
      },
      "source": [
        "All the audio files get converted into their respective spectrograms . Extracting features from them."
      ]
    },
    {
      "cell_type": "markdown",
      "metadata": {
        "id": "3Nw9HpSdFRsW"
      },
      "source": [
        ""
      ]
    },
    {
      "cell_type": "markdown",
      "metadata": {
        "id": "piwUwgP5Eef9"
      },
      "source": [
        "## Extracting features from Spectrogram\n",
        "\n",
        "\n",
        "We will extract\n",
        "\n",
        "* Mel-frequency cepstral coefficients (MFCC)(20 in number)\n",
        "* Spectral Centroid,\n",
        "* Zero Crossing Rate\n",
        "* Chroma Frequencies\n",
        "* Spectral Roll-off."
      ]
    },
    {
      "cell_type": "code",
      "metadata": {
        "id": "__g8tX8pDeIL"
      },
      "source": [
        "header = 'filename chroma_stft rmse spectral_centroid spectral_bandwidth rolloff zero_crossing_rate'\n",
        "for i in range(1, 21):\n",
        "    header += f' mfcc{i}'\n",
        "header += ' label'\n",
        "header = header.split()"
      ],
      "execution_count": 3,
      "outputs": []
    },
    {
      "cell_type": "markdown",
      "metadata": {
        "id": "TBlT448pEqR9"
      },
      "source": [
        "## Writing data to csv file\n",
        "\n",
        "We write the data to a csv file "
      ]
    },
    {
      "cell_type": "code",
      "metadata": {
        "id": "ZsSQmB0PE3Iu"
      },
      "source": [
        "# file = open('data.csv', 'w', newline='')\n",
        "# with file:\n",
        "#     writer = csv.writer(file)\n",
        "#     writer.writerow(header)\n",
        "# genres = 'blues classical country disco hiphop jazz metal pop reggae rock'.split()\n",
        "# for g in genres:\n",
        "#     for filename in os.listdir(f'/content/drive/My Drive/datasets/genres/{g}'):\n",
        "#         songname = f'/content/drive/My Drive/datasets/genres/{g}/{filename}'\n",
        "#         y, sr = librosa.load(songname, mono=True, duration=30)\n",
        "#         chroma_stft = librosa.feature.chroma_stft(y=y, sr=sr)\n",
        "#         spec_cent = librosa.feature.spectral_centroid(y=y, sr=sr)\n",
        "#         spec_bw = librosa.feature.spectral_bandwidth(y=y, sr=sr)\n",
        "#         rolloff = librosa.feature.spectral_rolloff(y=y, sr=sr)\n",
        "#         zcr = librosa.feature.zero_crossing_rate(y)\n",
        "#         mfcc = librosa.feature.mfcc(y=y, sr=sr)\n",
        "#         rmse = librosa.feature.rms(y=y)\n",
        "#         to_append = f'{filename} {np.mean(chroma_stft)} {np.mean(rmse)} {np.mean(spec_cent)} {np.mean(spec_bw)} {np.mean(rolloff)} {np.mean(zcr)}'    \n",
        "#         for e in mfcc:\n",
        "#             to_append += f' {np.mean(e)}'\n",
        "#         to_append += f' {g}'\n",
        "#         file = open('data.csv', 'a', newline='')\n",
        "#         with file:\n",
        "#             writer = csv.writer(file)\n",
        "#             writer.writerow(to_append.split())"
      ],
      "execution_count": 3,
      "outputs": []
    },
    {
      "cell_type": "markdown",
      "metadata": {
        "id": "fgeCZSKQEp1A"
      },
      "source": [
        "# Analysing the Data in Pandas"
      ]
    },
    {
      "cell_type": "code",
      "metadata": {
        "id": "Kr5_EdpD9dyh",
        "outputId": "e8797324-4757-4748-acac-d3b6f6e396b2",
        "colab": {
          "base_uri": "https://localhost:8080/",
          "height": 224
        }
      },
      "source": [
        "data = pd.read_csv('/content/drive/My Drive/datasets/deepAudioClassification.csv')\n",
        "data.head()"
      ],
      "execution_count": 4,
      "outputs": [
        {
          "output_type": "execute_result",
          "data": {
            "text/html": [
              "<div>\n",
              "<style scoped>\n",
              "    .dataframe tbody tr th:only-of-type {\n",
              "        vertical-align: middle;\n",
              "    }\n",
              "\n",
              "    .dataframe tbody tr th {\n",
              "        vertical-align: top;\n",
              "    }\n",
              "\n",
              "    .dataframe thead th {\n",
              "        text-align: right;\n",
              "    }\n",
              "</style>\n",
              "<table border=\"1\" class=\"dataframe\">\n",
              "  <thead>\n",
              "    <tr style=\"text-align: right;\">\n",
              "      <th></th>\n",
              "      <th>filename</th>\n",
              "      <th>chroma_stft</th>\n",
              "      <th>rmse</th>\n",
              "      <th>spectral_centroid</th>\n",
              "      <th>spectral_bandwidth</th>\n",
              "      <th>rolloff</th>\n",
              "      <th>zero_crossing_rate</th>\n",
              "      <th>mfcc1</th>\n",
              "      <th>mfcc2</th>\n",
              "      <th>mfcc3</th>\n",
              "      <th>mfcc4</th>\n",
              "      <th>mfcc5</th>\n",
              "      <th>mfcc6</th>\n",
              "      <th>mfcc7</th>\n",
              "      <th>mfcc8</th>\n",
              "      <th>mfcc9</th>\n",
              "      <th>mfcc10</th>\n",
              "      <th>mfcc11</th>\n",
              "      <th>mfcc12</th>\n",
              "      <th>mfcc13</th>\n",
              "      <th>mfcc14</th>\n",
              "      <th>mfcc15</th>\n",
              "      <th>mfcc16</th>\n",
              "      <th>mfcc17</th>\n",
              "      <th>mfcc18</th>\n",
              "      <th>mfcc19</th>\n",
              "      <th>mfcc20</th>\n",
              "      <th>label</th>\n",
              "    </tr>\n",
              "  </thead>\n",
              "  <tbody>\n",
              "    <tr>\n",
              "      <th>0</th>\n",
              "      <td>blues.00093.wav</td>\n",
              "      <td>0.377690</td>\n",
              "      <td>0.065906</td>\n",
              "      <td>569.930721</td>\n",
              "      <td>995.407125</td>\n",
              "      <td>927.427725</td>\n",
              "      <td>0.021701</td>\n",
              "      <td>-350.436188</td>\n",
              "      <td>169.545746</td>\n",
              "      <td>31.820370</td>\n",
              "      <td>16.682835</td>\n",
              "      <td>28.710146</td>\n",
              "      <td>19.256973</td>\n",
              "      <td>7.863395</td>\n",
              "      <td>10.036764</td>\n",
              "      <td>4.735106</td>\n",
              "      <td>2.907466</td>\n",
              "      <td>3.915553</td>\n",
              "      <td>1.821690</td>\n",
              "      <td>-5.970891</td>\n",
              "      <td>-5.259567</td>\n",
              "      <td>-0.229211</td>\n",
              "      <td>-1.776850</td>\n",
              "      <td>-3.713751</td>\n",
              "      <td>0.181591</td>\n",
              "      <td>2.072390</td>\n",
              "      <td>-2.896225</td>\n",
              "      <td>blues</td>\n",
              "    </tr>\n",
              "    <tr>\n",
              "      <th>1</th>\n",
              "      <td>blues.00087.wav</td>\n",
              "      <td>0.336773</td>\n",
              "      <td>0.158098</td>\n",
              "      <td>1442.190271</td>\n",
              "      <td>1870.534155</td>\n",
              "      <td>3083.414688</td>\n",
              "      <td>0.050889</td>\n",
              "      <td>-155.504929</td>\n",
              "      <td>125.638863</td>\n",
              "      <td>1.596553</td>\n",
              "      <td>45.804523</td>\n",
              "      <td>0.900778</td>\n",
              "      <td>25.367563</td>\n",
              "      <td>-10.787497</td>\n",
              "      <td>15.566381</td>\n",
              "      <td>-11.920467</td>\n",
              "      <td>1.264441</td>\n",
              "      <td>-6.649821</td>\n",
              "      <td>-0.792893</td>\n",
              "      <td>-7.748057</td>\n",
              "      <td>0.413548</td>\n",
              "      <td>-7.030263</td>\n",
              "      <td>3.997679</td>\n",
              "      <td>-6.256611</td>\n",
              "      <td>0.958227</td>\n",
              "      <td>2.019821</td>\n",
              "      <td>-5.742188</td>\n",
              "      <td>blues</td>\n",
              "    </tr>\n",
              "    <tr>\n",
              "      <th>2</th>\n",
              "      <td>blues.00050.wav</td>\n",
              "      <td>0.400860</td>\n",
              "      <td>0.182380</td>\n",
              "      <td>1945.848425</td>\n",
              "      <td>2082.246626</td>\n",
              "      <td>4175.874749</td>\n",
              "      <td>0.085806</td>\n",
              "      <td>-82.979019</td>\n",
              "      <td>107.052124</td>\n",
              "      <td>-25.320452</td>\n",
              "      <td>57.124992</td>\n",
              "      <td>0.085439</td>\n",
              "      <td>34.696800</td>\n",
              "      <td>-11.042020</td>\n",
              "      <td>20.532696</td>\n",
              "      <td>-11.213177</td>\n",
              "      <td>14.834125</td>\n",
              "      <td>-10.229334</td>\n",
              "      <td>12.539581</td>\n",
              "      <td>-9.762303</td>\n",
              "      <td>2.562253</td>\n",
              "      <td>-6.300853</td>\n",
              "      <td>2.996785</td>\n",
              "      <td>-8.718455</td>\n",
              "      <td>-0.326581</td>\n",
              "      <td>-2.980347</td>\n",
              "      <td>0.712600</td>\n",
              "      <td>blues</td>\n",
              "    </tr>\n",
              "    <tr>\n",
              "      <th>3</th>\n",
              "      <td>blues.00044.wav</td>\n",
              "      <td>0.390212</td>\n",
              "      <td>0.136276</td>\n",
              "      <td>2279.124558</td>\n",
              "      <td>2375.102120</td>\n",
              "      <td>5198.360233</td>\n",
              "      <td>0.092570</td>\n",
              "      <td>-109.509285</td>\n",
              "      <td>86.922409</td>\n",
              "      <td>-8.607986</td>\n",
              "      <td>64.494560</td>\n",
              "      <td>-6.304128</td>\n",
              "      <td>43.639511</td>\n",
              "      <td>-8.286754</td>\n",
              "      <td>28.546106</td>\n",
              "      <td>-14.079794</td>\n",
              "      <td>8.125041</td>\n",
              "      <td>-21.491404</td>\n",
              "      <td>11.087481</td>\n",
              "      <td>-5.085794</td>\n",
              "      <td>3.976360</td>\n",
              "      <td>-12.859742</td>\n",
              "      <td>12.343859</td>\n",
              "      <td>0.026216</td>\n",
              "      <td>-0.741568</td>\n",
              "      <td>-5.126620</td>\n",
              "      <td>3.303442</td>\n",
              "      <td>blues</td>\n",
              "    </tr>\n",
              "    <tr>\n",
              "      <th>4</th>\n",
              "      <td>blues.00078.wav</td>\n",
              "      <td>0.414188</td>\n",
              "      <td>0.258052</td>\n",
              "      <td>2333.685108</td>\n",
              "      <td>2227.425609</td>\n",
              "      <td>4942.811778</td>\n",
              "      <td>0.123863</td>\n",
              "      <td>-2.524338</td>\n",
              "      <td>101.252716</td>\n",
              "      <td>-33.924385</td>\n",
              "      <td>41.516891</td>\n",
              "      <td>-13.804996</td>\n",
              "      <td>31.919870</td>\n",
              "      <td>-21.864820</td>\n",
              "      <td>24.458441</td>\n",
              "      <td>-15.880980</td>\n",
              "      <td>15.789354</td>\n",
              "      <td>-14.366657</td>\n",
              "      <td>12.506608</td>\n",
              "      <td>-13.368823</td>\n",
              "      <td>6.112817</td>\n",
              "      <td>-9.065890</td>\n",
              "      <td>5.033774</td>\n",
              "      <td>-11.330276</td>\n",
              "      <td>3.166534</td>\n",
              "      <td>-4.567591</td>\n",
              "      <td>-4.033623</td>\n",
              "      <td>blues</td>\n",
              "    </tr>\n",
              "  </tbody>\n",
              "</table>\n",
              "</div>"
            ],
            "text/plain": [
              "          filename  chroma_stft      rmse  ...    mfcc19    mfcc20  label\n",
              "0  blues.00093.wav     0.377690  0.065906  ...  2.072390 -2.896225  blues\n",
              "1  blues.00087.wav     0.336773  0.158098  ...  2.019821 -5.742188  blues\n",
              "2  blues.00050.wav     0.400860  0.182380  ... -2.980347  0.712600  blues\n",
              "3  blues.00044.wav     0.390212  0.136276  ... -5.126620  3.303442  blues\n",
              "4  blues.00078.wav     0.414188  0.258052  ... -4.567591 -4.033623  blues\n",
              "\n",
              "[5 rows x 28 columns]"
            ]
          },
          "metadata": {
            "tags": []
          },
          "execution_count": 4
        }
      ]
    },
    {
      "cell_type": "code",
      "metadata": {
        "id": "iHrDHCaR9gKR",
        "outputId": "a1f8db6c-a6fc-4065-e252-220eb5a16c43",
        "colab": {
          "base_uri": "https://localhost:8080/",
          "height": 34
        }
      },
      "source": [
        "data.shape"
      ],
      "execution_count": 5,
      "outputs": [
        {
          "output_type": "execute_result",
          "data": {
            "text/plain": [
              "(1000, 28)"
            ]
          },
          "metadata": {
            "tags": []
          },
          "execution_count": 5
        }
      ]
    },
    {
      "cell_type": "code",
      "metadata": {
        "id": "veD5BgX49hZa"
      },
      "source": [
        "# Dropping unneccesary columns\n",
        "data = data.drop(['filename'],axis=1)"
      ],
      "execution_count": 6,
      "outputs": []
    },
    {
      "cell_type": "code",
      "metadata": {
        "id": "Dsm_mIloZNHC",
        "outputId": "54d93d99-f8b2-453d-e490-bb3910f259db",
        "colab": {
          "base_uri": "https://localhost:8080/",
          "height": 224
        }
      },
      "source": [
        "data.head(5)"
      ],
      "execution_count": 7,
      "outputs": [
        {
          "output_type": "execute_result",
          "data": {
            "text/html": [
              "<div>\n",
              "<style scoped>\n",
              "    .dataframe tbody tr th:only-of-type {\n",
              "        vertical-align: middle;\n",
              "    }\n",
              "\n",
              "    .dataframe tbody tr th {\n",
              "        vertical-align: top;\n",
              "    }\n",
              "\n",
              "    .dataframe thead th {\n",
              "        text-align: right;\n",
              "    }\n",
              "</style>\n",
              "<table border=\"1\" class=\"dataframe\">\n",
              "  <thead>\n",
              "    <tr style=\"text-align: right;\">\n",
              "      <th></th>\n",
              "      <th>chroma_stft</th>\n",
              "      <th>rmse</th>\n",
              "      <th>spectral_centroid</th>\n",
              "      <th>spectral_bandwidth</th>\n",
              "      <th>rolloff</th>\n",
              "      <th>zero_crossing_rate</th>\n",
              "      <th>mfcc1</th>\n",
              "      <th>mfcc2</th>\n",
              "      <th>mfcc3</th>\n",
              "      <th>mfcc4</th>\n",
              "      <th>mfcc5</th>\n",
              "      <th>mfcc6</th>\n",
              "      <th>mfcc7</th>\n",
              "      <th>mfcc8</th>\n",
              "      <th>mfcc9</th>\n",
              "      <th>mfcc10</th>\n",
              "      <th>mfcc11</th>\n",
              "      <th>mfcc12</th>\n",
              "      <th>mfcc13</th>\n",
              "      <th>mfcc14</th>\n",
              "      <th>mfcc15</th>\n",
              "      <th>mfcc16</th>\n",
              "      <th>mfcc17</th>\n",
              "      <th>mfcc18</th>\n",
              "      <th>mfcc19</th>\n",
              "      <th>mfcc20</th>\n",
              "      <th>label</th>\n",
              "    </tr>\n",
              "  </thead>\n",
              "  <tbody>\n",
              "    <tr>\n",
              "      <th>0</th>\n",
              "      <td>0.377690</td>\n",
              "      <td>0.065906</td>\n",
              "      <td>569.930721</td>\n",
              "      <td>995.407125</td>\n",
              "      <td>927.427725</td>\n",
              "      <td>0.021701</td>\n",
              "      <td>-350.436188</td>\n",
              "      <td>169.545746</td>\n",
              "      <td>31.820370</td>\n",
              "      <td>16.682835</td>\n",
              "      <td>28.710146</td>\n",
              "      <td>19.256973</td>\n",
              "      <td>7.863395</td>\n",
              "      <td>10.036764</td>\n",
              "      <td>4.735106</td>\n",
              "      <td>2.907466</td>\n",
              "      <td>3.915553</td>\n",
              "      <td>1.821690</td>\n",
              "      <td>-5.970891</td>\n",
              "      <td>-5.259567</td>\n",
              "      <td>-0.229211</td>\n",
              "      <td>-1.776850</td>\n",
              "      <td>-3.713751</td>\n",
              "      <td>0.181591</td>\n",
              "      <td>2.072390</td>\n",
              "      <td>-2.896225</td>\n",
              "      <td>blues</td>\n",
              "    </tr>\n",
              "    <tr>\n",
              "      <th>1</th>\n",
              "      <td>0.336773</td>\n",
              "      <td>0.158098</td>\n",
              "      <td>1442.190271</td>\n",
              "      <td>1870.534155</td>\n",
              "      <td>3083.414688</td>\n",
              "      <td>0.050889</td>\n",
              "      <td>-155.504929</td>\n",
              "      <td>125.638863</td>\n",
              "      <td>1.596553</td>\n",
              "      <td>45.804523</td>\n",
              "      <td>0.900778</td>\n",
              "      <td>25.367563</td>\n",
              "      <td>-10.787497</td>\n",
              "      <td>15.566381</td>\n",
              "      <td>-11.920467</td>\n",
              "      <td>1.264441</td>\n",
              "      <td>-6.649821</td>\n",
              "      <td>-0.792893</td>\n",
              "      <td>-7.748057</td>\n",
              "      <td>0.413548</td>\n",
              "      <td>-7.030263</td>\n",
              "      <td>3.997679</td>\n",
              "      <td>-6.256611</td>\n",
              "      <td>0.958227</td>\n",
              "      <td>2.019821</td>\n",
              "      <td>-5.742188</td>\n",
              "      <td>blues</td>\n",
              "    </tr>\n",
              "    <tr>\n",
              "      <th>2</th>\n",
              "      <td>0.400860</td>\n",
              "      <td>0.182380</td>\n",
              "      <td>1945.848425</td>\n",
              "      <td>2082.246626</td>\n",
              "      <td>4175.874749</td>\n",
              "      <td>0.085806</td>\n",
              "      <td>-82.979019</td>\n",
              "      <td>107.052124</td>\n",
              "      <td>-25.320452</td>\n",
              "      <td>57.124992</td>\n",
              "      <td>0.085439</td>\n",
              "      <td>34.696800</td>\n",
              "      <td>-11.042020</td>\n",
              "      <td>20.532696</td>\n",
              "      <td>-11.213177</td>\n",
              "      <td>14.834125</td>\n",
              "      <td>-10.229334</td>\n",
              "      <td>12.539581</td>\n",
              "      <td>-9.762303</td>\n",
              "      <td>2.562253</td>\n",
              "      <td>-6.300853</td>\n",
              "      <td>2.996785</td>\n",
              "      <td>-8.718455</td>\n",
              "      <td>-0.326581</td>\n",
              "      <td>-2.980347</td>\n",
              "      <td>0.712600</td>\n",
              "      <td>blues</td>\n",
              "    </tr>\n",
              "    <tr>\n",
              "      <th>3</th>\n",
              "      <td>0.390212</td>\n",
              "      <td>0.136276</td>\n",
              "      <td>2279.124558</td>\n",
              "      <td>2375.102120</td>\n",
              "      <td>5198.360233</td>\n",
              "      <td>0.092570</td>\n",
              "      <td>-109.509285</td>\n",
              "      <td>86.922409</td>\n",
              "      <td>-8.607986</td>\n",
              "      <td>64.494560</td>\n",
              "      <td>-6.304128</td>\n",
              "      <td>43.639511</td>\n",
              "      <td>-8.286754</td>\n",
              "      <td>28.546106</td>\n",
              "      <td>-14.079794</td>\n",
              "      <td>8.125041</td>\n",
              "      <td>-21.491404</td>\n",
              "      <td>11.087481</td>\n",
              "      <td>-5.085794</td>\n",
              "      <td>3.976360</td>\n",
              "      <td>-12.859742</td>\n",
              "      <td>12.343859</td>\n",
              "      <td>0.026216</td>\n",
              "      <td>-0.741568</td>\n",
              "      <td>-5.126620</td>\n",
              "      <td>3.303442</td>\n",
              "      <td>blues</td>\n",
              "    </tr>\n",
              "    <tr>\n",
              "      <th>4</th>\n",
              "      <td>0.414188</td>\n",
              "      <td>0.258052</td>\n",
              "      <td>2333.685108</td>\n",
              "      <td>2227.425609</td>\n",
              "      <td>4942.811778</td>\n",
              "      <td>0.123863</td>\n",
              "      <td>-2.524338</td>\n",
              "      <td>101.252716</td>\n",
              "      <td>-33.924385</td>\n",
              "      <td>41.516891</td>\n",
              "      <td>-13.804996</td>\n",
              "      <td>31.919870</td>\n",
              "      <td>-21.864820</td>\n",
              "      <td>24.458441</td>\n",
              "      <td>-15.880980</td>\n",
              "      <td>15.789354</td>\n",
              "      <td>-14.366657</td>\n",
              "      <td>12.506608</td>\n",
              "      <td>-13.368823</td>\n",
              "      <td>6.112817</td>\n",
              "      <td>-9.065890</td>\n",
              "      <td>5.033774</td>\n",
              "      <td>-11.330276</td>\n",
              "      <td>3.166534</td>\n",
              "      <td>-4.567591</td>\n",
              "      <td>-4.033623</td>\n",
              "      <td>blues</td>\n",
              "    </tr>\n",
              "  </tbody>\n",
              "</table>\n",
              "</div>"
            ],
            "text/plain": [
              "   chroma_stft      rmse  spectral_centroid  ...    mfcc19    mfcc20  label\n",
              "0     0.377690  0.065906         569.930721  ...  2.072390 -2.896225  blues\n",
              "1     0.336773  0.158098        1442.190271  ...  2.019821 -5.742188  blues\n",
              "2     0.400860  0.182380        1945.848425  ... -2.980347  0.712600  blues\n",
              "3     0.390212  0.136276        2279.124558  ... -5.126620  3.303442  blues\n",
              "4     0.414188  0.258052        2333.685108  ... -4.567591 -4.033623  blues\n",
              "\n",
              "[5 rows x 27 columns]"
            ]
          },
          "metadata": {
            "tags": []
          },
          "execution_count": 7
        }
      ]
    },
    {
      "cell_type": "code",
      "metadata": {
        "id": "bqEbSrzvZMnM",
        "outputId": "bed5dcc4-2829-4129-ec37-704efab14b64",
        "colab": {
          "base_uri": "https://localhost:8080/",
          "height": 439
        }
      },
      "source": [
        "data.iloc[:, :-2]"
      ],
      "execution_count": 8,
      "outputs": [
        {
          "output_type": "execute_result",
          "data": {
            "text/html": [
              "<div>\n",
              "<style scoped>\n",
              "    .dataframe tbody tr th:only-of-type {\n",
              "        vertical-align: middle;\n",
              "    }\n",
              "\n",
              "    .dataframe tbody tr th {\n",
              "        vertical-align: top;\n",
              "    }\n",
              "\n",
              "    .dataframe thead th {\n",
              "        text-align: right;\n",
              "    }\n",
              "</style>\n",
              "<table border=\"1\" class=\"dataframe\">\n",
              "  <thead>\n",
              "    <tr style=\"text-align: right;\">\n",
              "      <th></th>\n",
              "      <th>chroma_stft</th>\n",
              "      <th>rmse</th>\n",
              "      <th>spectral_centroid</th>\n",
              "      <th>spectral_bandwidth</th>\n",
              "      <th>rolloff</th>\n",
              "      <th>zero_crossing_rate</th>\n",
              "      <th>mfcc1</th>\n",
              "      <th>mfcc2</th>\n",
              "      <th>mfcc3</th>\n",
              "      <th>mfcc4</th>\n",
              "      <th>mfcc5</th>\n",
              "      <th>mfcc6</th>\n",
              "      <th>mfcc7</th>\n",
              "      <th>mfcc8</th>\n",
              "      <th>mfcc9</th>\n",
              "      <th>mfcc10</th>\n",
              "      <th>mfcc11</th>\n",
              "      <th>mfcc12</th>\n",
              "      <th>mfcc13</th>\n",
              "      <th>mfcc14</th>\n",
              "      <th>mfcc15</th>\n",
              "      <th>mfcc16</th>\n",
              "      <th>mfcc17</th>\n",
              "      <th>mfcc18</th>\n",
              "      <th>mfcc19</th>\n",
              "    </tr>\n",
              "  </thead>\n",
              "  <tbody>\n",
              "    <tr>\n",
              "      <th>0</th>\n",
              "      <td>0.377690</td>\n",
              "      <td>0.065906</td>\n",
              "      <td>569.930721</td>\n",
              "      <td>995.407125</td>\n",
              "      <td>927.427725</td>\n",
              "      <td>0.021701</td>\n",
              "      <td>-350.436188</td>\n",
              "      <td>169.545746</td>\n",
              "      <td>31.820370</td>\n",
              "      <td>16.682835</td>\n",
              "      <td>28.710146</td>\n",
              "      <td>19.256973</td>\n",
              "      <td>7.863395</td>\n",
              "      <td>10.036764</td>\n",
              "      <td>4.735106</td>\n",
              "      <td>2.907466</td>\n",
              "      <td>3.915553</td>\n",
              "      <td>1.821690</td>\n",
              "      <td>-5.970891</td>\n",
              "      <td>-5.259567</td>\n",
              "      <td>-0.229211</td>\n",
              "      <td>-1.776850</td>\n",
              "      <td>-3.713751</td>\n",
              "      <td>0.181591</td>\n",
              "      <td>2.072390</td>\n",
              "    </tr>\n",
              "    <tr>\n",
              "      <th>1</th>\n",
              "      <td>0.336773</td>\n",
              "      <td>0.158098</td>\n",
              "      <td>1442.190271</td>\n",
              "      <td>1870.534155</td>\n",
              "      <td>3083.414688</td>\n",
              "      <td>0.050889</td>\n",
              "      <td>-155.504929</td>\n",
              "      <td>125.638863</td>\n",
              "      <td>1.596553</td>\n",
              "      <td>45.804523</td>\n",
              "      <td>0.900778</td>\n",
              "      <td>25.367563</td>\n",
              "      <td>-10.787497</td>\n",
              "      <td>15.566381</td>\n",
              "      <td>-11.920467</td>\n",
              "      <td>1.264441</td>\n",
              "      <td>-6.649821</td>\n",
              "      <td>-0.792893</td>\n",
              "      <td>-7.748057</td>\n",
              "      <td>0.413548</td>\n",
              "      <td>-7.030263</td>\n",
              "      <td>3.997679</td>\n",
              "      <td>-6.256611</td>\n",
              "      <td>0.958227</td>\n",
              "      <td>2.019821</td>\n",
              "    </tr>\n",
              "    <tr>\n",
              "      <th>2</th>\n",
              "      <td>0.400860</td>\n",
              "      <td>0.182380</td>\n",
              "      <td>1945.848425</td>\n",
              "      <td>2082.246626</td>\n",
              "      <td>4175.874749</td>\n",
              "      <td>0.085806</td>\n",
              "      <td>-82.979019</td>\n",
              "      <td>107.052124</td>\n",
              "      <td>-25.320452</td>\n",
              "      <td>57.124992</td>\n",
              "      <td>0.085439</td>\n",
              "      <td>34.696800</td>\n",
              "      <td>-11.042020</td>\n",
              "      <td>20.532696</td>\n",
              "      <td>-11.213177</td>\n",
              "      <td>14.834125</td>\n",
              "      <td>-10.229334</td>\n",
              "      <td>12.539581</td>\n",
              "      <td>-9.762303</td>\n",
              "      <td>2.562253</td>\n",
              "      <td>-6.300853</td>\n",
              "      <td>2.996785</td>\n",
              "      <td>-8.718455</td>\n",
              "      <td>-0.326581</td>\n",
              "      <td>-2.980347</td>\n",
              "    </tr>\n",
              "    <tr>\n",
              "      <th>3</th>\n",
              "      <td>0.390212</td>\n",
              "      <td>0.136276</td>\n",
              "      <td>2279.124558</td>\n",
              "      <td>2375.102120</td>\n",
              "      <td>5198.360233</td>\n",
              "      <td>0.092570</td>\n",
              "      <td>-109.509285</td>\n",
              "      <td>86.922409</td>\n",
              "      <td>-8.607986</td>\n",
              "      <td>64.494560</td>\n",
              "      <td>-6.304128</td>\n",
              "      <td>43.639511</td>\n",
              "      <td>-8.286754</td>\n",
              "      <td>28.546106</td>\n",
              "      <td>-14.079794</td>\n",
              "      <td>8.125041</td>\n",
              "      <td>-21.491404</td>\n",
              "      <td>11.087481</td>\n",
              "      <td>-5.085794</td>\n",
              "      <td>3.976360</td>\n",
              "      <td>-12.859742</td>\n",
              "      <td>12.343859</td>\n",
              "      <td>0.026216</td>\n",
              "      <td>-0.741568</td>\n",
              "      <td>-5.126620</td>\n",
              "    </tr>\n",
              "    <tr>\n",
              "      <th>4</th>\n",
              "      <td>0.414188</td>\n",
              "      <td>0.258052</td>\n",
              "      <td>2333.685108</td>\n",
              "      <td>2227.425609</td>\n",
              "      <td>4942.811778</td>\n",
              "      <td>0.123863</td>\n",
              "      <td>-2.524338</td>\n",
              "      <td>101.252716</td>\n",
              "      <td>-33.924385</td>\n",
              "      <td>41.516891</td>\n",
              "      <td>-13.804996</td>\n",
              "      <td>31.919870</td>\n",
              "      <td>-21.864820</td>\n",
              "      <td>24.458441</td>\n",
              "      <td>-15.880980</td>\n",
              "      <td>15.789354</td>\n",
              "      <td>-14.366657</td>\n",
              "      <td>12.506608</td>\n",
              "      <td>-13.368823</td>\n",
              "      <td>6.112817</td>\n",
              "      <td>-9.065890</td>\n",
              "      <td>5.033774</td>\n",
              "      <td>-11.330276</td>\n",
              "      <td>3.166534</td>\n",
              "      <td>-4.567591</td>\n",
              "    </tr>\n",
              "    <tr>\n",
              "      <th>...</th>\n",
              "      <td>...</td>\n",
              "      <td>...</td>\n",
              "      <td>...</td>\n",
              "      <td>...</td>\n",
              "      <td>...</td>\n",
              "      <td>...</td>\n",
              "      <td>...</td>\n",
              "      <td>...</td>\n",
              "      <td>...</td>\n",
              "      <td>...</td>\n",
              "      <td>...</td>\n",
              "      <td>...</td>\n",
              "      <td>...</td>\n",
              "      <td>...</td>\n",
              "      <td>...</td>\n",
              "      <td>...</td>\n",
              "      <td>...</td>\n",
              "      <td>...</td>\n",
              "      <td>...</td>\n",
              "      <td>...</td>\n",
              "      <td>...</td>\n",
              "      <td>...</td>\n",
              "      <td>...</td>\n",
              "      <td>...</td>\n",
              "      <td>...</td>\n",
              "    </tr>\n",
              "    <tr>\n",
              "      <th>995</th>\n",
              "      <td>0.457221</td>\n",
              "      <td>0.124174</td>\n",
              "      <td>1867.235838</td>\n",
              "      <td>2422.256647</td>\n",
              "      <td>4270.982507</td>\n",
              "      <td>0.056988</td>\n",
              "      <td>-123.998863</td>\n",
              "      <td>109.507980</td>\n",
              "      <td>5.886388</td>\n",
              "      <td>32.896305</td>\n",
              "      <td>10.973795</td>\n",
              "      <td>11.686162</td>\n",
              "      <td>12.677259</td>\n",
              "      <td>12.976705</td>\n",
              "      <td>1.649139</td>\n",
              "      <td>4.498659</td>\n",
              "      <td>9.673376</td>\n",
              "      <td>3.063167</td>\n",
              "      <td>3.533335</td>\n",
              "      <td>0.729908</td>\n",
              "      <td>1.764981</td>\n",
              "      <td>-0.678046</td>\n",
              "      <td>-0.033834</td>\n",
              "      <td>-1.010613</td>\n",
              "      <td>-5.570284</td>\n",
              "    </tr>\n",
              "    <tr>\n",
              "      <th>996</th>\n",
              "      <td>0.392898</td>\n",
              "      <td>0.161538</td>\n",
              "      <td>2157.822776</td>\n",
              "      <td>2060.259516</td>\n",
              "      <td>4244.324335</td>\n",
              "      <td>0.121604</td>\n",
              "      <td>-55.298634</td>\n",
              "      <td>114.435890</td>\n",
              "      <td>-34.063801</td>\n",
              "      <td>37.979469</td>\n",
              "      <td>-22.325554</td>\n",
              "      <td>18.520617</td>\n",
              "      <td>-18.151169</td>\n",
              "      <td>13.802691</td>\n",
              "      <td>-27.798647</td>\n",
              "      <td>18.156794</td>\n",
              "      <td>-14.618975</td>\n",
              "      <td>6.550629</td>\n",
              "      <td>-8.267242</td>\n",
              "      <td>-2.256248</td>\n",
              "      <td>-11.608406</td>\n",
              "      <td>2.496105</td>\n",
              "      <td>-10.946154</td>\n",
              "      <td>0.705372</td>\n",
              "      <td>-0.678453</td>\n",
              "    </tr>\n",
              "    <tr>\n",
              "      <th>997</th>\n",
              "      <td>0.398055</td>\n",
              "      <td>0.152507</td>\n",
              "      <td>2188.376105</td>\n",
              "      <td>2120.348371</td>\n",
              "      <td>4433.073194</td>\n",
              "      <td>0.117590</td>\n",
              "      <td>-56.912151</td>\n",
              "      <td>115.195763</td>\n",
              "      <td>-30.433733</td>\n",
              "      <td>37.195583</td>\n",
              "      <td>-21.980320</td>\n",
              "      <td>21.864517</td>\n",
              "      <td>-19.757450</td>\n",
              "      <td>14.993086</td>\n",
              "      <td>-24.064768</td>\n",
              "      <td>17.783127</td>\n",
              "      <td>-17.268303</td>\n",
              "      <td>6.744224</td>\n",
              "      <td>-10.743413</td>\n",
              "      <td>0.814011</td>\n",
              "      <td>-10.161298</td>\n",
              "      <td>3.680640</td>\n",
              "      <td>-8.554656</td>\n",
              "      <td>-0.911824</td>\n",
              "      <td>-2.523441</td>\n",
              "    </tr>\n",
              "    <tr>\n",
              "      <th>998</th>\n",
              "      <td>0.421082</td>\n",
              "      <td>0.191175</td>\n",
              "      <td>2789.712144</td>\n",
              "      <td>2648.716877</td>\n",
              "      <td>5836.164710</td>\n",
              "      <td>0.135008</td>\n",
              "      <td>-28.061827</td>\n",
              "      <td>65.631660</td>\n",
              "      <td>-7.352339</td>\n",
              "      <td>33.593666</td>\n",
              "      <td>11.072847</td>\n",
              "      <td>14.760890</td>\n",
              "      <td>2.197583</td>\n",
              "      <td>10.065200</td>\n",
              "      <td>-0.329750</td>\n",
              "      <td>10.135974</td>\n",
              "      <td>-2.750565</td>\n",
              "      <td>3.189335</td>\n",
              "      <td>-1.685570</td>\n",
              "      <td>-0.161785</td>\n",
              "      <td>-1.691114</td>\n",
              "      <td>1.850430</td>\n",
              "      <td>-3.969524</td>\n",
              "      <td>-1.626861</td>\n",
              "      <td>-6.389011</td>\n",
              "    </tr>\n",
              "    <tr>\n",
              "      <th>999</th>\n",
              "      <td>0.408748</td>\n",
              "      <td>0.260914</td>\n",
              "      <td>1717.312205</td>\n",
              "      <td>1842.500561</td>\n",
              "      <td>3362.721333</td>\n",
              "      <td>0.084981</td>\n",
              "      <td>-14.910253</td>\n",
              "      <td>138.420120</td>\n",
              "      <td>-41.889427</td>\n",
              "      <td>22.070244</td>\n",
              "      <td>-18.660637</td>\n",
              "      <td>31.994633</td>\n",
              "      <td>-20.366152</td>\n",
              "      <td>15.689840</td>\n",
              "      <td>-17.350269</td>\n",
              "      <td>14.861217</td>\n",
              "      <td>-8.898566</td>\n",
              "      <td>12.247994</td>\n",
              "      <td>-5.819694</td>\n",
              "      <td>9.968249</td>\n",
              "      <td>-3.163116</td>\n",
              "      <td>1.976028</td>\n",
              "      <td>-6.923685</td>\n",
              "      <td>3.121398</td>\n",
              "      <td>-2.987224</td>\n",
              "    </tr>\n",
              "  </tbody>\n",
              "</table>\n",
              "<p>1000 rows × 25 columns</p>\n",
              "</div>"
            ],
            "text/plain": [
              "     chroma_stft      rmse  spectral_centroid  ...     mfcc17    mfcc18    mfcc19\n",
              "0       0.377690  0.065906         569.930721  ...  -3.713751  0.181591  2.072390\n",
              "1       0.336773  0.158098        1442.190271  ...  -6.256611  0.958227  2.019821\n",
              "2       0.400860  0.182380        1945.848425  ...  -8.718455 -0.326581 -2.980347\n",
              "3       0.390212  0.136276        2279.124558  ...   0.026216 -0.741568 -5.126620\n",
              "4       0.414188  0.258052        2333.685108  ... -11.330276  3.166534 -4.567591\n",
              "..           ...       ...                ...  ...        ...       ...       ...\n",
              "995     0.457221  0.124174        1867.235838  ...  -0.033834 -1.010613 -5.570284\n",
              "996     0.392898  0.161538        2157.822776  ... -10.946154  0.705372 -0.678453\n",
              "997     0.398055  0.152507        2188.376105  ...  -8.554656 -0.911824 -2.523441\n",
              "998     0.421082  0.191175        2789.712144  ...  -3.969524 -1.626861 -6.389011\n",
              "999     0.408748  0.260914        1717.312205  ...  -6.923685  3.121398 -2.987224\n",
              "\n",
              "[1000 rows x 25 columns]"
            ]
          },
          "metadata": {
            "tags": []
          },
          "execution_count": 8
        }
      ]
    },
    {
      "cell_type": "markdown",
      "metadata": {
        "id": "Nyr0aAAsGXjZ"
      },
      "source": [
        "## Encoding the Labels"
      ]
    },
    {
      "cell_type": "code",
      "metadata": {
        "id": "frI5HH4q-1HS"
      },
      "source": [
        "genre_list = data.iloc[:, -1] #all rows last column only\n",
        "encoder = LabelEncoder()\n",
        "y = encoder.fit_transform(genre_list)\n",
        "\n",
        "# iloc explanation:\n",
        "# df.iloc[:3] # slice your object, i.e. first three rows of your dataframe\n",
        "# df.iloc[0:3] # same\n",
        "# df.iloc[0, 1] # index both axis. Select the element from the first row, second column.\n",
        "# df.iloc[:, 0:5] # first five columns of data frame with all rows\n",
        "# data.iloc[:, -2:] #last two columns only\n",
        "# data.iloc[:, :-2] #all columns except the last 2 columns"
      ],
      "execution_count": 9,
      "outputs": []
    },
    {
      "cell_type": "markdown",
      "metadata": {
        "id": "Slm8W0-iGVhI"
      },
      "source": [
        ""
      ]
    },
    {
      "cell_type": "markdown",
      "metadata": {
        "id": "_2n8a02zGfvP"
      },
      "source": [
        "## Scaling the Feature columns"
      ]
    },
    {
      "cell_type": "code",
      "metadata": {
        "id": "uqcqn-nyAofk"
      },
      "source": [
        "scaler = StandardScaler()\n",
        "X = scaler.fit_transform(np.array(data.iloc[:, :-1], dtype = float)) #select all columns except the last column"
      ],
      "execution_count": 10,
      "outputs": []
    },
    {
      "cell_type": "markdown",
      "metadata": {
        "id": "e3VZvbwpGo9R"
      },
      "source": [
        "## Dividing data into training and Testing set"
      ]
    },
    {
      "cell_type": "code",
      "metadata": {
        "id": "F1GW3VvQA7Rj"
      },
      "source": [
        "X_train, X_test, y_train, y_test = train_test_split(X, y, test_size=0.2)"
      ],
      "execution_count": 11,
      "outputs": []
    },
    {
      "cell_type": "code",
      "metadata": {
        "id": "upuczQ-KBHJ5",
        "outputId": "e10a69db-d6a8-4782-de09-b9097a0b530f",
        "colab": {
          "base_uri": "https://localhost:8080/",
          "height": 34
        }
      },
      "source": [
        "len(y_train)"
      ],
      "execution_count": 12,
      "outputs": [
        {
          "output_type": "execute_result",
          "data": {
            "text/plain": [
              "800"
            ]
          },
          "metadata": {
            "tags": []
          },
          "execution_count": 12
        }
      ]
    },
    {
      "cell_type": "code",
      "metadata": {
        "id": "LtoE_FqqBzM8",
        "outputId": "dc3aca95-07e6-4238-f415-7919ee612f66",
        "colab": {
          "base_uri": "https://localhost:8080/",
          "height": 34
        }
      },
      "source": [
        "len(y_test)"
      ],
      "execution_count": 13,
      "outputs": [
        {
          "output_type": "execute_result",
          "data": {
            "text/plain": [
              "200"
            ]
          },
          "metadata": {
            "tags": []
          },
          "execution_count": 13
        }
      ]
    },
    {
      "cell_type": "code",
      "metadata": {
        "id": "ir9XaWgQB0lq",
        "outputId": "36670a76-929a-4265-98ea-25f54445ebd8",
        "colab": {
          "base_uri": "https://localhost:8080/",
          "height": 119
        }
      },
      "source": [
        "X_train[10]"
      ],
      "execution_count": 14,
      "outputs": [
        {
          "output_type": "execute_result",
          "data": {
            "text/plain": [
              "array([ 1.01433867,  0.81671353,  0.35988841, -0.04020464,  0.28746135,\n",
              "        0.9376157 ,  1.28698228,  0.01198026, -1.31429583,  0.57113261,\n",
              "       -1.59277562,  0.91571935, -1.34385334,  1.55195153, -1.5711718 ,\n",
              "        1.66908282, -1.0965167 ,  0.94660547, -1.71697633,  0.35046924,\n",
              "       -0.75989676,  0.57876512, -0.88358627,  1.63409913,  0.10597743,\n",
              "        1.27175015])"
            ]
          },
          "metadata": {
            "tags": []
          },
          "execution_count": 14
        }
      ]
    },
    {
      "cell_type": "code",
      "metadata": {
        "id": "qT4YLmmJ838n",
        "outputId": "6940155c-e090-428f-ed4f-1f1387e91ffe",
        "colab": {
          "base_uri": "https://localhost:8080/",
          "height": 34
        }
      },
      "source": [
        "X_train.shape[1]"
      ],
      "execution_count": 15,
      "outputs": [
        {
          "output_type": "execute_result",
          "data": {
            "text/plain": [
              "26"
            ]
          },
          "metadata": {
            "tags": []
          },
          "execution_count": 15
        }
      ]
    },
    {
      "cell_type": "markdown",
      "metadata": {
        "id": "Vp2yc5FWG04e"
      },
      "source": [
        "# Classification with Keras\n",
        "\n",
        "## Building our Network"
      ]
    },
    {
      "cell_type": "code",
      "metadata": {
        "id": "Qj3sc2uFEUMt",
        "outputId": "f73dcb7c-6521-43a8-c771-2404f38a0b9d",
        "colab": {
          "base_uri": "https://localhost:8080/",
          "height": 289
        }
      },
      "source": [
        "model = tf.keras.Sequential()\n",
        "model.add(tf.keras.layers.Dense(units=256, activation='relu', input_shape=(X_train.shape[1],)))\n",
        "model.add(tf.keras.layers.Dense(units=128, activation='relu'))\n",
        "model.add(tf.keras.layers.Dense(units=64, activation='relu'))\n",
        "model.add(tf.keras.layers.Dense(units=10, activation='softmax'))\n",
        "model.summary()"
      ],
      "execution_count": 16,
      "outputs": [
        {
          "output_type": "stream",
          "text": [
            "Model: \"sequential\"\n",
            "_________________________________________________________________\n",
            "Layer (type)                 Output Shape              Param #   \n",
            "=================================================================\n",
            "dense (Dense)                (None, 256)               6912      \n",
            "_________________________________________________________________\n",
            "dense_1 (Dense)              (None, 128)               32896     \n",
            "_________________________________________________________________\n",
            "dense_2 (Dense)              (None, 64)                8256      \n",
            "_________________________________________________________________\n",
            "dense_3 (Dense)              (None, 10)                650       \n",
            "=================================================================\n",
            "Total params: 48,714\n",
            "Trainable params: 48,714\n",
            "Non-trainable params: 0\n",
            "_________________________________________________________________\n"
          ],
          "name": "stdout"
        }
      ]
    },
    {
      "cell_type": "code",
      "metadata": {
        "id": "7yrsmpI6EjJ2"
      },
      "source": [
        "model.compile(optimizer='Adam',\n",
        "              loss='sparse_categorical_crossentropy',\n",
        "              metrics=['accuracy'])"
      ],
      "execution_count": 17,
      "outputs": []
    },
    {
      "cell_type": "code",
      "metadata": {
        "id": "bP0hVm4aElS7",
        "outputId": "0b226827-e73a-4dff-d454-831510cea9da",
        "colab": {
          "base_uri": "https://localhost:8080/",
          "height": 717
        }
      },
      "source": [
        "history = model.fit(X_train,\n",
        "                    y_train,\n",
        "                    epochs=20,\n",
        "                    batch_size=128,\n",
        "                    validation_split = 0.2\n",
        "                    )\n",
        "                   "
      ],
      "execution_count": 18,
      "outputs": [
        {
          "output_type": "stream",
          "text": [
            "Epoch 1/20\n",
            "5/5 [==============================] - 0s 35ms/step - loss: 2.2435 - accuracy: 0.1906 - val_loss: 2.1395 - val_accuracy: 0.2438\n",
            "Epoch 2/20\n",
            "5/5 [==============================] - 0s 5ms/step - loss: 2.0047 - accuracy: 0.3672 - val_loss: 1.9833 - val_accuracy: 0.2688\n",
            "Epoch 3/20\n",
            "5/5 [==============================] - 0s 5ms/step - loss: 1.8024 - accuracy: 0.4016 - val_loss: 1.8435 - val_accuracy: 0.3063\n",
            "Epoch 4/20\n",
            "5/5 [==============================] - 0s 6ms/step - loss: 1.6284 - accuracy: 0.4172 - val_loss: 1.7090 - val_accuracy: 0.3187\n",
            "Epoch 5/20\n",
            "5/5 [==============================] - 0s 5ms/step - loss: 1.4792 - accuracy: 0.4641 - val_loss: 1.5727 - val_accuracy: 0.3875\n",
            "Epoch 6/20\n",
            "5/5 [==============================] - 0s 5ms/step - loss: 1.3510 - accuracy: 0.5422 - val_loss: 1.4755 - val_accuracy: 0.4313\n",
            "Epoch 7/20\n",
            "5/5 [==============================] - 0s 5ms/step - loss: 1.2426 - accuracy: 0.5703 - val_loss: 1.4152 - val_accuracy: 0.4313\n",
            "Epoch 8/20\n",
            "5/5 [==============================] - 0s 6ms/step - loss: 1.1536 - accuracy: 0.6109 - val_loss: 1.3500 - val_accuracy: 0.5312\n",
            "Epoch 9/20\n",
            "5/5 [==============================] - 0s 5ms/step - loss: 1.0686 - accuracy: 0.6562 - val_loss: 1.2925 - val_accuracy: 0.5188\n",
            "Epoch 10/20\n",
            "5/5 [==============================] - 0s 5ms/step - loss: 0.9917 - accuracy: 0.6672 - val_loss: 1.2375 - val_accuracy: 0.5437\n",
            "Epoch 11/20\n",
            "5/5 [==============================] - 0s 5ms/step - loss: 0.9245 - accuracy: 0.7016 - val_loss: 1.1970 - val_accuracy: 0.5500\n",
            "Epoch 12/20\n",
            "5/5 [==============================] - 0s 5ms/step - loss: 0.8794 - accuracy: 0.7344 - val_loss: 1.1627 - val_accuracy: 0.5813\n",
            "Epoch 13/20\n",
            "5/5 [==============================] - 0s 5ms/step - loss: 0.8241 - accuracy: 0.7563 - val_loss: 1.1500 - val_accuracy: 0.5875\n",
            "Epoch 14/20\n",
            "5/5 [==============================] - 0s 5ms/step - loss: 0.7841 - accuracy: 0.7484 - val_loss: 1.1212 - val_accuracy: 0.5938\n",
            "Epoch 15/20\n",
            "5/5 [==============================] - 0s 5ms/step - loss: 0.7422 - accuracy: 0.7672 - val_loss: 1.1094 - val_accuracy: 0.6000\n",
            "Epoch 16/20\n",
            "5/5 [==============================] - 0s 5ms/step - loss: 0.7035 - accuracy: 0.7750 - val_loss: 1.0879 - val_accuracy: 0.5938\n",
            "Epoch 17/20\n",
            "5/5 [==============================] - 0s 5ms/step - loss: 0.6683 - accuracy: 0.7828 - val_loss: 1.0993 - val_accuracy: 0.5813\n",
            "Epoch 18/20\n",
            "5/5 [==============================] - 0s 5ms/step - loss: 0.6308 - accuracy: 0.8141 - val_loss: 1.0818 - val_accuracy: 0.5875\n",
            "Epoch 19/20\n",
            "5/5 [==============================] - 0s 5ms/step - loss: 0.5917 - accuracy: 0.8188 - val_loss: 1.0772 - val_accuracy: 0.6250\n",
            "Epoch 20/20\n",
            "5/5 [==============================] - 0s 5ms/step - loss: 0.5668 - accuracy: 0.8313 - val_loss: 1.0725 - val_accuracy: 0.6125\n"
          ],
          "name": "stdout"
        }
      ]
    },
    {
      "cell_type": "code",
      "metadata": {
        "id": "KJdTeAAwABOP",
        "outputId": "f7980c84-0aea-490b-f15d-e20dbbbc8925",
        "colab": {
          "base_uri": "https://localhost:8080/",
          "height": 312
        }
      },
      "source": [
        "plt.plot(history.history['loss'])\n",
        "\n",
        "plt.plot(history.history['val_loss'])\n",
        "\n",
        "plt.title('Model Loss Progress During Training')\n",
        "\n",
        "plt.xlabel('Epoch')\n",
        "\n",
        "plt.ylabel('Training and Validation Loss')\n",
        "\n",
        "plt.legend(['Training Loss', 'Validation Loss'])"
      ],
      "execution_count": 19,
      "outputs": [
        {
          "output_type": "execute_result",
          "data": {
            "text/plain": [
              "<matplotlib.legend.Legend at 0x7fcfb00f0358>"
            ]
          },
          "metadata": {
            "tags": []
          },
          "execution_count": 19
        },
        {
          "output_type": "display_data",
          "data": {
            "image/png": "[encoded data removed]",
            "text/plain": [
              "<Figure size 432x288 with 1 Axes>"
            ]
          },
          "metadata": {
            "tags": [],
            "needs_background": "light"
          }
        }
      ]
    },
    {
      "cell_type": "code",
      "metadata": {
        "id": "0m1J0_wUFK4C",
        "outputId": "e19c3b0f-0b39-4165-e6fd-78b262a1416f",
        "colab": {
          "base_uri": "https://localhost:8080/",
          "height": 34
        }
      },
      "source": [
        "test_loss, test_acc = model.evaluate(X_test,y_test)"
      ],
      "execution_count": 20,
      "outputs": [
        {
          "output_type": "stream",
          "text": [
            "7/7 [==============================] - 0s 2ms/step - loss: 0.9397 - accuracy: 0.7100\n"
          ],
          "name": "stdout"
        }
      ]
    },
    {
      "cell_type": "code",
      "metadata": {
        "id": "f6HrjXeUF0Ko",
        "outputId": "8d9b233c-47b6-4b9e-f49f-de8f99db1e6b",
        "colab": {
          "base_uri": "https://localhost:8080/",
          "height": 34
        }
      },
      "source": [
        "print('test_acc: ',test_acc)"
      ],
      "execution_count": 21,
      "outputs": [
        {
          "output_type": "stream",
          "text": [
            "test_acc:  0.7099999785423279\n"
          ],
          "name": "stdout"
        }
      ]
    },
    {
      "cell_type": "markdown",
      "metadata": {
        "id": "3yQmP_f5Kq0w"
      },
      "source": [
        "Tes accuracy is less than training dataa accuracy. This hints at Overfitting"
      ]
    },
    {
      "cell_type": "markdown",
      "metadata": {
        "id": "-U2qzRJoHV9O"
      },
      "source": [
        "## Validating our approach\n",
        "Let's set apart 200 samples in our training data to use as a validation set:"
      ]
    },
    {
      "cell_type": "code",
      "metadata": {
        "id": "xJNbvYZoF7ZT"
      },
      "source": [
        "x_val = X_train[:200]\n",
        "partial_x_train = X_train[200:]\n",
        "\n",
        "y_val = y_train[:200]\n",
        "partial_y_train = y_train[200:]"
      ],
      "execution_count": 22,
      "outputs": []
    },
    {
      "cell_type": "markdown",
      "metadata": {
        "id": "L1EkG59EHeEV"
      },
      "source": [
        "Now let's train our network for 20 epochs:"
      ]
    },
    {
      "cell_type": "code",
      "metadata": {
        "id": "Dp3G4P3aP4k2",
        "outputId": "cb3e2d66-0902-4c1f-9662-e37e1eaaf8e2",
        "colab": {
          "base_uri": "https://localhost:8080/",
          "height": 1000
        }
      },
      "source": [
        "model = tf.keras.Sequential()\n",
        "model.add(tf.keras.layers.Dense(units=512, activation='relu', input_shape=(X_train.shape[1],)))\n",
        "model.add(tf.keras.layers.Dense(units=256, activation='relu'))\n",
        "model.add(tf.keras.layers.Dense(units=128, activation='relu'))\n",
        "model.add(tf.keras.layers.Dense(units=64, activation='relu'))\n",
        "model.add(tf.keras.layers.Dense(units=10, activation='softmax'))\n",
        "model.summary()\n",
        "\n",
        "model.compile(optimizer='adam',\n",
        "              loss='sparse_categorical_crossentropy',\n",
        "              metrics=['accuracy'])\n",
        "\n",
        "model.fit(partial_x_train,\n",
        "          partial_y_train,\n",
        "          epochs=30,\n",
        "          batch_size=512,\n",
        "          validation_data=(x_val, y_val))\n",
        "results = model.evaluate(X_test, y_test)"
      ],
      "execution_count": 23,
      "outputs": [
        {
          "output_type": "stream",
          "text": [
            "Model: \"sequential_1\"\n",
            "_________________________________________________________________\n",
            "Layer (type)                 Output Shape              Param #   \n",
            "=================================================================\n",
            "dense_4 (Dense)              (None, 512)               13824     \n",
            "_________________________________________________________________\n",
            "dense_5 (Dense)              (None, 256)               131328    \n",
            "_________________________________________________________________\n",
            "dense_6 (Dense)              (None, 128)               32896     \n",
            "_________________________________________________________________\n",
            "dense_7 (Dense)              (None, 64)                8256      \n",
            "_________________________________________________________________\n",
            "dense_8 (Dense)              (None, 10)                650       \n",
            "=================================================================\n",
            "Total params: 186,954\n",
            "Trainable params: 186,954\n",
            "Non-trainable params: 0\n",
            "_________________________________________________________________\n",
            "Epoch 1/30\n",
            "2/2 [==============================] - 0s 82ms/step - loss: 2.3158 - accuracy: 0.1117 - val_loss: 2.1480 - val_accuracy: 0.2900\n",
            "Epoch 2/30\n",
            "2/2 [==============================] - 0s 12ms/step - loss: 2.1265 - accuracy: 0.2883 - val_loss: 1.9904 - val_accuracy: 0.3150\n",
            "Epoch 3/30\n",
            "2/2 [==============================] - 0s 10ms/step - loss: 1.9649 - accuracy: 0.2983 - val_loss: 1.8359 - val_accuracy: 0.3650\n",
            "Epoch 4/30\n",
            "2/2 [==============================] - 0s 9ms/step - loss: 1.8168 - accuracy: 0.3467 - val_loss: 1.7093 - val_accuracy: 0.4100\n",
            "Epoch 5/30\n",
            "2/2 [==============================] - 0s 11ms/step - loss: 1.6858 - accuracy: 0.3933 - val_loss: 1.6042 - val_accuracy: 0.4350\n",
            "Epoch 6/30\n",
            "2/2 [==============================] - 0s 10ms/step - loss: 1.5638 - accuracy: 0.4217 - val_loss: 1.5178 - val_accuracy: 0.4900\n",
            "Epoch 7/30\n",
            "2/2 [==============================] - 0s 10ms/step - loss: 1.4559 - accuracy: 0.4850 - val_loss: 1.4742 - val_accuracy: 0.5050\n",
            "Epoch 8/30\n",
            "2/2 [==============================] - 0s 9ms/step - loss: 1.3709 - accuracy: 0.5300 - val_loss: 1.4415 - val_accuracy: 0.4850\n",
            "Epoch 9/30\n",
            "2/2 [==============================] - 0s 12ms/step - loss: 1.3034 - accuracy: 0.5450 - val_loss: 1.3557 - val_accuracy: 0.5450\n",
            "Epoch 10/30\n",
            "2/2 [==============================] - 0s 10ms/step - loss: 1.2334 - accuracy: 0.5783 - val_loss: 1.2789 - val_accuracy: 0.5650\n",
            "Epoch 11/30\n",
            "2/2 [==============================] - 0s 10ms/step - loss: 1.1719 - accuracy: 0.5883 - val_loss: 1.2693 - val_accuracy: 0.5450\n",
            "Epoch 12/30\n",
            "2/2 [==============================] - 0s 9ms/step - loss: 1.1231 - accuracy: 0.5900 - val_loss: 1.2609 - val_accuracy: 0.5650\n",
            "Epoch 13/30\n",
            "2/2 [==============================] - 0s 11ms/step - loss: 1.0628 - accuracy: 0.6283 - val_loss: 1.2327 - val_accuracy: 0.5700\n",
            "Epoch 14/30\n",
            "2/2 [==============================] - 0s 12ms/step - loss: 1.0163 - accuracy: 0.6650 - val_loss: 1.1833 - val_accuracy: 0.5800\n",
            "Epoch 15/30\n",
            "2/2 [==============================] - 0s 11ms/step - loss: 0.9722 - accuracy: 0.7033 - val_loss: 1.1667 - val_accuracy: 0.5800\n",
            "Epoch 16/30\n",
            "2/2 [==============================] - 0s 10ms/step - loss: 0.9584 - accuracy: 0.6650 - val_loss: 1.1602 - val_accuracy: 0.5850\n",
            "Epoch 17/30\n",
            "2/2 [==============================] - 0s 10ms/step - loss: 0.9171 - accuracy: 0.6833 - val_loss: 1.1551 - val_accuracy: 0.6100\n",
            "Epoch 18/30\n",
            "2/2 [==============================] - 0s 11ms/step - loss: 0.8656 - accuracy: 0.7250 - val_loss: 1.1716 - val_accuracy: 0.5800\n",
            "Epoch 19/30\n",
            "2/2 [==============================] - 0s 10ms/step - loss: 0.8448 - accuracy: 0.7283 - val_loss: 1.1309 - val_accuracy: 0.5900\n",
            "Epoch 20/30\n",
            "2/2 [==============================] - 0s 9ms/step - loss: 0.8022 - accuracy: 0.7350 - val_loss: 1.0864 - val_accuracy: 0.6300\n",
            "Epoch 21/30\n",
            "2/2 [==============================] - 0s 9ms/step - loss: 0.7706 - accuracy: 0.7483 - val_loss: 1.0705 - val_accuracy: 0.6000\n",
            "Epoch 22/30\n",
            "2/2 [==============================] - 0s 9ms/step - loss: 0.7466 - accuracy: 0.7433 - val_loss: 1.0759 - val_accuracy: 0.6050\n",
            "Epoch 23/30\n",
            "2/2 [==============================] - 0s 10ms/step - loss: 0.7209 - accuracy: 0.7550 - val_loss: 1.0838 - val_accuracy: 0.6250\n",
            "Epoch 24/30\n",
            "2/2 [==============================] - 0s 10ms/step - loss: 0.6901 - accuracy: 0.7600 - val_loss: 1.0964 - val_accuracy: 0.6150\n",
            "Epoch 25/30\n",
            "2/2 [==============================] - 0s 9ms/step - loss: 0.6676 - accuracy: 0.7867 - val_loss: 1.1068 - val_accuracy: 0.6200\n",
            "Epoch 26/30\n",
            "2/2 [==============================] - 0s 9ms/step - loss: 0.6479 - accuracy: 0.7850 - val_loss: 1.1024 - val_accuracy: 0.6250\n",
            "Epoch 27/30\n",
            "2/2 [==============================] - 0s 13ms/step - loss: 0.6272 - accuracy: 0.7917 - val_loss: 1.0933 - val_accuracy: 0.5900\n",
            "Epoch 28/30\n",
            "2/2 [==============================] - 0s 11ms/step - loss: 0.6009 - accuracy: 0.7950 - val_loss: 1.0972 - val_accuracy: 0.5750\n",
            "Epoch 29/30\n",
            "2/2 [==============================] - 0s 10ms/step - loss: 0.5756 - accuracy: 0.8133 - val_loss: 1.0774 - val_accuracy: 0.5900\n",
            "Epoch 30/30\n",
            "2/2 [==============================] - 0s 10ms/step - loss: 0.5511 - accuracy: 0.8117 - val_loss: 1.0623 - val_accuracy: 0.6250\n",
            "7/7 [==============================] - 0s 2ms/step - loss: 0.9964 - accuracy: 0.6650\n"
          ],
          "name": "stdout"
        }
      ]
    },
    {
      "cell_type": "markdown",
      "metadata": {
        "id": "dljqHfDPI6lH"
      },
      "source": [
        ""
      ]
    },
    {
      "cell_type": "code",
      "metadata": {
        "id": "Mvi9it1SI4aR",
        "outputId": "a29002e2-1929-476e-fba3-238591f9dd04",
        "colab": {
          "base_uri": "https://localhost:8080/",
          "height": 34
        }
      },
      "source": [
        "results"
      ],
      "execution_count": 24,
      "outputs": [
        {
          "output_type": "execute_result",
          "data": {
            "text/plain": [
              "[0.9963760375976562, 0.6650000214576721]"
            ]
          },
          "metadata": {
            "tags": []
          },
          "execution_count": 24
        }
      ]
    },
    {
      "cell_type": "markdown",
      "metadata": {
        "id": "r3hb8s1l4rBA"
      },
      "source": [
        "## Predictions on Test Data"
      ]
    },
    {
      "cell_type": "code",
      "metadata": {
        "id": "D3-aQOpeQdwz"
      },
      "source": [
        "import random"
      ],
      "execution_count": 25,
      "outputs": []
    },
    {
      "cell_type": "code",
      "metadata": {
        "id": "zCuRc3zFB0SU"
      },
      "source": [
        "X_Sample_test=X_test[random.randint(0, 199)]"
      ],
      "execution_count": 26,
      "outputs": []
    },
    {
      "cell_type": "code",
      "metadata": {
        "id": "h2Xkk5NRCH5G"
      },
      "source": [
        "X_Sample_test_reshaped=X_Sample_test.reshape(1,26)"
      ],
      "execution_count": 27,
      "outputs": []
    },
    {
      "cell_type": "code",
      "metadata": {
        "id": "o5ieXIvtCSRW",
        "outputId": "e0dbef0d-3fa3-45e4-af0c-606169e79611",
        "colab": {
          "base_uri": "https://localhost:8080/",
          "height": 119
        }
      },
      "source": [
        "X_Sample_test_reshaped"
      ],
      "execution_count": 28,
      "outputs": [
        {
          "output_type": "execute_result",
          "data": {
            "text/plain": [
              "array([[-2.53335791, -0.33727125, -1.62409934, -1.55920241, -1.73667011,\n",
              "        -1.33613304, -1.25552694,  1.21405185,  0.67240231,  0.37124392,\n",
              "        -0.55680724, -0.39849408, -0.16801065, -0.18028248,  0.0975195 ,\n",
              "        -0.28514195,  0.08607772, -1.43847771, -0.3556665 , -1.00227189,\n",
              "         0.38227943,  0.71327486,  1.31008153,  1.15789851,  2.37406203,\n",
              "        -0.34725044]])"
            ]
          },
          "metadata": {
            "tags": []
          },
          "execution_count": 28
        }
      ]
    },
    {
      "cell_type": "code",
      "metadata": {
        "id": "gudBAhIXJIi2"
      },
      "source": [
        "predictions = model.predict(X_Sample_test_reshaped)"
      ],
      "execution_count": 29,
      "outputs": []
    },
    {
      "cell_type": "code",
      "metadata": {
        "id": "Xb7bVPSwJQF0",
        "outputId": "8b48c2b6-30ff-47c7-bac9-19f8341545b8",
        "colab": {
          "base_uri": "https://localhost:8080/",
          "height": 34
        }
      },
      "source": [
        "predictions.shape"
      ],
      "execution_count": 30,
      "outputs": [
        {
          "output_type": "execute_result",
          "data": {
            "text/plain": [
              "(1, 10)"
            ]
          },
          "metadata": {
            "tags": []
          },
          "execution_count": 30
        }
      ]
    },
    {
      "cell_type": "code",
      "metadata": {
        "id": "HRnyAg3ZP4kX"
      },
      "source": [
        "predictions_df = pd.DataFrame(data=predictions, columns=[\"blues\", \"classical\", \"country\", \"disco\", \"hiphop\", \"jazz\" ,\"metal\", \"pop\" ,\"reggae\", \"rock\"])"
      ],
      "execution_count": 31,
      "outputs": []
    },
    {
      "cell_type": "code",
      "metadata": {
        "id": "0sUHo7pnO8t9"
      },
      "source": [
        "# y_test_reshaped = y_test.reshape(200,1)"
      ],
      "execution_count": null,
      "outputs": []
    },
    {
      "cell_type": "code",
      "metadata": {
        "id": "o5QSWYeCOa-h"
      },
      "source": [
        "# y_test[5]"
      ],
      "execution_count": null,
      "outputs": []
    },
    {
      "cell_type": "code",
      "metadata": {
        "id": "a6SOyETIOxwg"
      },
      "source": [
        "# y_test_df = pd.DataFrame(data=y_test_reshaped, columns=[\"Genre\"])"
      ],
      "execution_count": null,
      "outputs": []
    },
    {
      "cell_type": "code",
      "metadata": {
        "id": "jGdbtpmIPqRb"
      },
      "source": [
        "# y_test_df.head(5)"
      ],
      "execution_count": null,
      "outputs": []
    },
    {
      "cell_type": "code",
      "metadata": {
        "id": "IT9ya7bmQSgm"
      },
      "source": [
        "# predictions_df.head(5)"
      ],
      "execution_count": null,
      "outputs": []
    },
    {
      "cell_type": "code",
      "metadata": {
        "id": "Utgt1bXfJVRN",
        "outputId": "643d888e-61dc-4c32-bf50-f446aaf923e9",
        "colab": {
          "base_uri": "https://localhost:8080/",
          "height": 34
        }
      },
      "source": [
        "#print the genre equivalent of the prediction\n",
        "i = np.argmax(predictions[0])\n",
        "genres = [\"blues\", \"classical\", \"country\", \"disco\", \"hiphop\", \"jazz\" ,\"metal\", \"pop\" ,\"reggae\", \"rock\"]\n",
        "print(genres[i])"
      ],
      "execution_count": 33,
      "outputs": [
        {
          "output_type": "stream",
          "text": [
            "jazz\n"
          ],
          "name": "stdout"
        }
      ]
    },
    {
      "cell_type": "markdown",
      "metadata": {
        "id": "lc-4P7Noc9Fv"
      },
      "source": [
        "# Save the trained TF model to use for WebApp"
      ]
    },
    {
      "cell_type": "code",
      "metadata": {
        "id": "Xas_U6S8FuEQ",
        "outputId": "29eff60f-f53c-4291-8e17-b30046653e2e",
        "colab": {
          "base_uri": "https://localhost:8080/",
          "height": 35
        }
      },
      "source": [
        "tf.__version__"
      ],
      "execution_count": 34,
      "outputs": [
        {
          "output_type": "execute_result",
          "data": {
            "application/vnd.google.colaboratory.intrinsic+json": {
              "type": "string"
            },
            "text/plain": [
              "'2.3.0'"
            ]
          },
          "metadata": {
            "tags": []
          },
          "execution_count": 34
        }
      ]
    },
    {
      "cell_type": "code",
      "metadata": {
        "id": "wrxGAaRbc8vw"
      },
      "source": [
        "model.save(\"model.h5\")"
      ],
      "execution_count": 35,
      "outputs": []
    },
    {
      "cell_type": "code",
      "metadata": {
        "id": "CCDQYbLGgA7W"
      },
      "source": [
        "#installing tensorflowjs for deploying"
      ],
      "execution_count": null,
      "outputs": []
    },
    {
      "cell_type": "code",
      "metadata": {
        "id": "0_DJiQypSRsq",
        "outputId": "3fbe152e-c836-4d0b-84e0-978641324fbc",
        "colab": {
          "base_uri": "https://localhost:8080/",
          "height": 1000
        }
      },
      "source": [
        "!pip install tensorflowjs"
      ],
      "execution_count": 36,
      "outputs": [
        {
          "output_type": "stream",
          "text": [
            "Collecting tensorflowjs\n",
            "\u001b[?25l  Downloading https://files.pythonhosted.org/packages/12/78/cfa27e5d15dbcc06b036cad25a8aee1c62b2fd6b91a88ecf550ad26ff0f6/tensorflowjs-2.4.0-py3-none-any.whl (61kB)\n",
            "\r\u001b[K     |█████▍                          | 10kB 24.9MB/s eta 0:00:01\r\u001b[K     |██████████▊                     | 20kB 3.3MB/s eta 0:00:01\r\u001b[K     |████████████████                | 30kB 4.4MB/s eta 0:00:01\r\u001b[K     |█████████████████████▍          | 40kB 4.7MB/s eta 0:00:01\r\u001b[K     |██████████████████████████▊     | 51kB 3.9MB/s eta 0:00:01\r\u001b[K     |████████████████████████████████| 61kB 3.0MB/s \n",
            "\u001b[?25hRequirement already satisfied: numpy<1.19.0,>=1.16.4 in /usr/local/lib/python3.6/dist-packages (from tensorflowjs) (1.18.5)\n",
            "Collecting tensorflow-cpu<3,>=2.1.0\n",
            "\u001b[?25l  Downloading https://files.pythonhosted.org/packages/b7/1a/0dff6c8421f84b2f104adf48c8ad8b9ae5a693417868abacfab9f133c122/tensorflow_cpu-2.3.1-cp36-cp36m-manylinux2010_x86_64.whl (137.3MB)\n",
            "\u001b[K     |████████████████████████████████| 137.3MB 85kB/s \n",
            "\u001b[?25hCollecting PyInquirer==1.0.3\n",
            "  Downloading https://files.pythonhosted.org/packages/fb/4c/434b7c454010a284b49d6f1d446fe8dc5960415613d8c0225b9e2efb6724/PyInquirer-1.0.3.tar.gz\n",
            "Collecting tensorflow-hub==0.7.0\n",
            "\u001b[?25l  Downloading https://files.pythonhosted.org/packages/00/0e/a91780d07592b1abf9c91344ce459472cc19db3b67fdf3a61dca6ebb2f5c/tensorflow_hub-0.7.0-py2.py3-none-any.whl (89kB)\n",
            "\u001b[K     |████████████████████████████████| 92kB 11.7MB/s \n",
            "\u001b[?25hRequirement already satisfied: six>=1.12.0 in /usr/local/lib/python3.6/dist-packages (from tensorflowjs) (1.15.0)\n",
            "Requirement already satisfied: h5py>=2.8.0 in /usr/local/lib/python3.6/dist-packages (from tensorflowjs) (2.10.0)\n",
            "Requirement already satisfied: absl-py>=0.7.0 in /usr/local/lib/python3.6/dist-packages (from tensorflow-cpu<3,>=2.1.0->tensorflowjs) (0.10.0)\n",
            "Requirement already satisfied: opt-einsum>=2.3.2 in /usr/local/lib/python3.6/dist-packages (from tensorflow-cpu<3,>=2.1.0->tensorflowjs) (3.3.0)\n",
            "Requirement already satisfied: gast==0.3.3 in /usr/local/lib/python3.6/dist-packages (from tensorflow-cpu<3,>=2.1.0->tensorflowjs) (0.3.3)\n",
            "Requirement already satisfied: grpcio>=1.8.6 in /usr/local/lib/python3.6/dist-packages (from tensorflow-cpu<3,>=2.1.0->tensorflowjs) (1.32.0)\n",
            "Requirement already satisfied: google-pasta>=0.1.8 in /usr/local/lib/python3.6/dist-packages (from tensorflow-cpu<3,>=2.1.0->tensorflowjs) (0.2.0)\n",
            "Requirement already satisfied: tensorboard<3,>=2.3.0 in /usr/local/lib/python3.6/dist-packages (from tensorflow-cpu<3,>=2.1.0->tensorflowjs) (2.3.0)\n",
            "Requirement already satisfied: protobuf>=3.9.2 in /usr/local/lib/python3.6/dist-packages (from tensorflow-cpu<3,>=2.1.0->tensorflowjs) (3.12.4)\n",
            "Requirement already satisfied: tensorflow-estimator<2.4.0,>=2.3.0 in /usr/local/lib/python3.6/dist-packages (from tensorflow-cpu<3,>=2.1.0->tensorflowjs) (2.3.0)\n",
            "Requirement already satisfied: wrapt>=1.11.1 in /usr/local/lib/python3.6/dist-packages (from tensorflow-cpu<3,>=2.1.0->tensorflowjs) (1.12.1)\n",
            "Requirement already satisfied: termcolor>=1.1.0 in /usr/local/lib/python3.6/dist-packages (from tensorflow-cpu<3,>=2.1.0->tensorflowjs) (1.1.0)\n",
            "Requirement already satisfied: wheel>=0.26 in /usr/local/lib/python3.6/dist-packages (from tensorflow-cpu<3,>=2.1.0->tensorflowjs) (0.35.1)\n",
            "Requirement already satisfied: keras-preprocessing<1.2,>=1.1.1 in /usr/local/lib/python3.6/dist-packages (from tensorflow-cpu<3,>=2.1.0->tensorflowjs) (1.1.2)\n",
            "Requirement already satisfied: astunparse==1.6.3 in /usr/local/lib/python3.6/dist-packages (from tensorflow-cpu<3,>=2.1.0->tensorflowjs) (1.6.3)\n",
            "Collecting prompt_toolkit==1.0.14\n",
            "\u001b[?25l  Downloading https://files.pythonhosted.org/packages/ee/3d/b25d35a9f0d381dd1c02d8e04b37c353caaaff4bc32150328eeebe4931f5/prompt_toolkit-1.0.14-py3-none-any.whl (248kB)\n",
            "\u001b[K     |████████████████████████████████| 256kB 49.7MB/s \n",
            "\u001b[?25hRequirement already satisfied: Pygments>=2.2.0 in /usr/local/lib/python3.6/dist-packages (from PyInquirer==1.0.3->tensorflowjs) (2.6.1)\n",
            "Requirement already satisfied: regex>=2016.11.21 in /usr/local/lib/python3.6/dist-packages (from PyInquirer==1.0.3->tensorflowjs) (2019.12.20)\n",
            "Requirement already satisfied: google-auth-oauthlib<0.5,>=0.4.1 in /usr/local/lib/python3.6/dist-packages (from tensorboard<3,>=2.3.0->tensorflow-cpu<3,>=2.1.0->tensorflowjs) (0.4.1)\n",
            "Requirement already satisfied: markdown>=2.6.8 in /usr/local/lib/python3.6/dist-packages (from tensorboard<3,>=2.3.0->tensorflow-cpu<3,>=2.1.0->tensorflowjs) (3.2.2)\n",
            "Requirement already satisfied: werkzeug>=0.11.15 in /usr/local/lib/python3.6/dist-packages (from tensorboard<3,>=2.3.0->tensorflow-cpu<3,>=2.1.0->tensorflowjs) (1.0.1)\n",
            "Requirement already satisfied: setuptools>=41.0.0 in /usr/local/lib/python3.6/dist-packages (from tensorboard<3,>=2.3.0->tensorflow-cpu<3,>=2.1.0->tensorflowjs) (50.3.0)\n",
            "Requirement already satisfied: google-auth<2,>=1.6.3 in /usr/local/lib/python3.6/dist-packages (from tensorboard<3,>=2.3.0->tensorflow-cpu<3,>=2.1.0->tensorflowjs) (1.17.2)\n",
            "Requirement already satisfied: requests<3,>=2.21.0 in /usr/local/lib/python3.6/dist-packages (from tensorboard<3,>=2.3.0->tensorflow-cpu<3,>=2.1.0->tensorflowjs) (2.23.0)\n",
            "Requirement already satisfied: tensorboard-plugin-wit>=1.6.0 in /usr/local/lib/python3.6/dist-packages (from tensorboard<3,>=2.3.0->tensorflow-cpu<3,>=2.1.0->tensorflowjs) (1.7.0)\n",
            "Requirement already satisfied: wcwidth in /usr/local/lib/python3.6/dist-packages (from prompt_toolkit==1.0.14->PyInquirer==1.0.3->tensorflowjs) (0.2.5)\n",
            "Requirement already satisfied: requests-oauthlib>=0.7.0 in /usr/local/lib/python3.6/dist-packages (from google-auth-oauthlib<0.5,>=0.4.1->tensorboard<3,>=2.3.0->tensorflow-cpu<3,>=2.1.0->tensorflowjs) (1.3.0)\n",
            "Requirement already satisfied: importlib-metadata; python_version < \"3.8\" in /usr/local/lib/python3.6/dist-packages (from markdown>=2.6.8->tensorboard<3,>=2.3.0->tensorflow-cpu<3,>=2.1.0->tensorflowjs) (2.0.0)\n",
            "Requirement already satisfied: rsa<5,>=3.1.4; python_version >= \"3\" in /usr/local/lib/python3.6/dist-packages (from google-auth<2,>=1.6.3->tensorboard<3,>=2.3.0->tensorflow-cpu<3,>=2.1.0->tensorflowjs) (4.6)\n",
            "Requirement already satisfied: pyasn1-modules>=0.2.1 in /usr/local/lib/python3.6/dist-packages (from google-auth<2,>=1.6.3->tensorboard<3,>=2.3.0->tensorflow-cpu<3,>=2.1.0->tensorflowjs) (0.2.8)\n",
            "Requirement already satisfied: cachetools<5.0,>=2.0.0 in /usr/local/lib/python3.6/dist-packages (from google-auth<2,>=1.6.3->tensorboard<3,>=2.3.0->tensorflow-cpu<3,>=2.1.0->tensorflowjs) (4.1.1)\n",
            "Requirement already satisfied: chardet<4,>=3.0.2 in /usr/local/lib/python3.6/dist-packages (from requests<3,>=2.21.0->tensorboard<3,>=2.3.0->tensorflow-cpu<3,>=2.1.0->tensorflowjs) (3.0.4)\n",
            "Requirement already satisfied: urllib3!=1.25.0,!=1.25.1,<1.26,>=1.21.1 in /usr/local/lib/python3.6/dist-packages (from requests<3,>=2.21.0->tensorboard<3,>=2.3.0->tensorflow-cpu<3,>=2.1.0->tensorflowjs) (1.24.3)\n",
            "Requirement already satisfied: certifi>=2017.4.17 in /usr/local/lib/python3.6/dist-packages (from requests<3,>=2.21.0->tensorboard<3,>=2.3.0->tensorflow-cpu<3,>=2.1.0->tensorflowjs) (2020.6.20)\n",
            "Requirement already satisfied: idna<3,>=2.5 in /usr/local/lib/python3.6/dist-packages (from requests<3,>=2.21.0->tensorboard<3,>=2.3.0->tensorflow-cpu<3,>=2.1.0->tensorflowjs) (2.10)\n",
            "Requirement already satisfied: oauthlib>=3.0.0 in /usr/local/lib/python3.6/dist-packages (from requests-oauthlib>=0.7.0->google-auth-oauthlib<0.5,>=0.4.1->tensorboard<3,>=2.3.0->tensorflow-cpu<3,>=2.1.0->tensorflowjs) (3.1.0)\n",
            "Requirement already satisfied: zipp>=0.5 in /usr/local/lib/python3.6/dist-packages (from importlib-metadata; python_version < \"3.8\"->markdown>=2.6.8->tensorboard<3,>=2.3.0->tensorflow-cpu<3,>=2.1.0->tensorflowjs) (3.2.0)\n",
            "Requirement already satisfied: pyasn1>=0.1.3 in /usr/local/lib/python3.6/dist-packages (from rsa<5,>=3.1.4; python_version >= \"3\"->google-auth<2,>=1.6.3->tensorboard<3,>=2.3.0->tensorflow-cpu<3,>=2.1.0->tensorflowjs) (0.4.8)\n",
            "Building wheels for collected packages: PyInquirer\n",
            "  Building wheel for PyInquirer (setup.py) ... \u001b[?25l\u001b[?25hdone\n",
            "  Created wheel for PyInquirer: filename=PyInquirer-1.0.3-cp36-none-any.whl size=32852 sha256=835d634d9ee4f3a3c937fdc395963691f44f92677283401fbddb2b79ff50fbb8\n",
            "  Stored in directory: /root/.cache/pip/wheels/52/6c/b1/3e4b0e8daf42a92883c7641c0ea8ffb62e0490ebed2faa55ad\n",
            "Successfully built PyInquirer\n",
            "Installing collected packages: tensorflow-cpu, prompt-toolkit, PyInquirer, tensorflow-hub, tensorflowjs\n",
            "  Found existing installation: prompt-toolkit 1.0.18\n",
            "    Uninstalling prompt-toolkit-1.0.18:\n",
            "      Successfully uninstalled prompt-toolkit-1.0.18\n",
            "  Found existing installation: tensorflow-hub 0.9.0\n",
            "    Uninstalling tensorflow-hub-0.9.0:\n",
            "      Successfully uninstalled tensorflow-hub-0.9.0\n",
            "Successfully installed PyInquirer-1.0.3 prompt-toolkit-1.0.14 tensorflow-cpu-2.3.1 tensorflow-hub-0.7.0 tensorflowjs-2.4.0\n"
          ],
          "name": "stdout"
        },
        {
          "output_type": "display_data",
          "data": {
            "application/vnd.colab-display-data+json": {
              "pip_warning": {
                "packages": [
                  "prompt_toolkit",
                  "tensorflow"
                ]
              }
            }
          },
          "metadata": {
            "tags": []
          }
        }
      ]
    },
    {
      "cell_type": "code",
      "metadata": {
        "id": "Y-TNP31KgXNp"
      },
      "source": [
        "!tensorflowjs_converter --input_format keras \"/content/model.h5\" \"/content/model\""
      ],
      "execution_count": 37,
      "outputs": []
    },
    {
      "cell_type": "code",
      "metadata": {
        "id": "HK8uyleShvcz"
      },
      "source": [
        ""
      ],
      "execution_count": null,
      "outputs": []
    }
  ]
}