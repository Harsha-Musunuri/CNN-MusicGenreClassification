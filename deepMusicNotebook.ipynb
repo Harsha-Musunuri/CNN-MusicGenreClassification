{
  "nbformat": 4,
  "nbformat_minor": 0,
  "metadata": {
    "accelerator": "TPU",
    "colab": {
      "name": "deepMusicNotebook.ipynb",
      "provenance": [],
      "collapsed_sections": []
    },
    "kernelspec": {
      "display_name": "Python 3",
      "language": "python",
      "name": "python3"
    },
    "language_info": {
      "codemirror_mode": {
        "name": "ipython",
        "version": 3
      },
      "file_extension": ".py",
      "mimetype": "text/x-python",
      "name": "python",
      "nbconvert_exporter": "python",
      "pygments_lexer": "ipython3",
      "version": "3.7.7"
    }
  },
  "cells": [
    {
      "cell_type": "markdown",
      "metadata": {
        "colab_type": "text",
        "id": "view-in-github"
      },
      "source": [
        "<a href=\"https://colab.research.google.com/gist/parulnith/7f8c174e6ac099e86f0495d3d9a4c01e/untitled9.ipynb\" target=\"_parent\"><img src=\"https://colab.research.google.com/assets/colab-badge.svg\" alt=\"Open In Colab\"/></a>"
      ]
    },
    {
      "cell_type": "markdown",
      "metadata": {
        "colab_type": "text",
        "id": "cNnM2w-HCeb1"
      },
      "source": [
        "# Music genre classification notebook"
      ]
    },
    {
      "cell_type": "markdown",
      "metadata": {
        "colab_type": "text",
        "id": "2l3sppZMCydR"
      },
      "source": [
        "## Importing Libraries"
      ]
    },
    {
      "cell_type": "code",
      "metadata": {
        "colab_type": "code",
        "id": "Gt3fyg6dCNvX",
        "colab": {}
      },
      "source": [
        "# feature extractoring and preprocessing data\n",
        "import librosa\n",
        "import pandas as pd\n",
        "import numpy as np\n",
        "import matplotlib.pyplot as plt\n",
        "%matplotlib inline\n",
        "import os\n",
        "from PIL import Image\n",
        "import pathlib\n",
        "import csv\n",
        "\n",
        "# Preprocessing\n",
        "from sklearn.model_selection import train_test_split\n",
        "from sklearn.preprocessing import LabelEncoder, StandardScaler\n",
        "\n",
        "#Tensorflow\n",
        "import tensorflow as tf\n",
        "\n",
        "import warnings\n",
        "warnings.filterwarnings('ignore')"
      ],
      "execution_count": 0,
      "outputs": []
    },
    {
      "cell_type": "code",
      "metadata": {
        "id": "MYHygoYx3qXG",
        "colab_type": "code",
        "colab": {
          "base_uri": "https://localhost:8080/",
          "height": 122
        },
        "outputId": "323739da-8cb3-4562-92c8-ca5ce99b861e"
      },
      "source": [
        "from google.colab import drive\n",
        "\n",
        "drive.mount('/content/drive')"
      ],
      "execution_count": 2,
      "outputs": [
        {
          "output_type": "stream",
          "text": [
            "Go to this URL in a browser: https://accounts.google.com/o/oauth2/auth?client_id=947318989803-6bn6qk8qdgf4n4g3pfee6491hc0brc4i.apps.googleusercontent.com&redirect_uri=urn%3aietf%3awg%3aoauth%3a2.0%3aoob&response_type=code&scope=email%20https%3a%2f%2fwww.googleapis.com%2fauth%2fdocs.test%20https%3a%2f%2fwww.googleapis.com%2fauth%2fdrive%20https%3a%2f%2fwww.googleapis.com%2fauth%2fdrive.photos.readonly%20https%3a%2f%2fwww.googleapis.com%2fauth%2fpeopleapi.readonly\n",
            "\n",
            "Enter your authorization code:\n",
            "··········\n",
            "Mounted at /content/drive\n"
          ],
          "name": "stdout"
        }
      ]
    },
    {
      "cell_type": "code",
      "metadata": {
        "id": "ZevQw_tW6nJB",
        "colab_type": "code",
        "colab": {}
      },
      "source": [
        "from google.colab import drive\n",
        "drive.mount('/content/drive')"
      ],
      "execution_count": 0,
      "outputs": []
    },
    {
      "cell_type": "markdown",
      "metadata": {
        "colab_type": "text",
        "id": "DPe_ebYuDqr5"
      },
      "source": [
        "## Extracting music and features\n",
        "\n",
        "### Dataset\n",
        "\n",
        "We use [GTZAN genre collection](http://marsyasweb.appspot.com/download/data_sets/) dataset for classification. \n",
        "<br>\n",
        "<br>\n",
        "The dataset consists of 10 genres i.e\n",
        " * Blues\n",
        " * Classical\n",
        " * Country\n",
        " * Disco\n",
        " * Hiphop\n",
        " * Jazz\n",
        " * Metal\n",
        " * Pop\n",
        " * Reggae\n",
        " * Rock\n",
        " \n",
        "Each genre contains 100 songs. Total dataset: 1000 songs"
      ]
    },
    {
      "cell_type": "markdown",
      "metadata": {
        "colab_type": "text",
        "id": "neqMS0VoDpN5"
      },
      "source": [
        ""
      ]
    },
    {
      "cell_type": "markdown",
      "metadata": {
        "colab_type": "text",
        "id": "AfBSVfRCD3PE"
      },
      "source": [
        "## Extracting the Spectrogram for every Audio"
      ]
    },
    {
      "cell_type": "code",
      "metadata": {
        "colab_type": "code",
        "id": "BHh3pTEVDdrT",
        "outputId": "263c7b79-3496-492c-f76f-8aa6a0228559",
        "colab": {
          "base_uri": "https://localhost:8080/",
          "height": 34
        }
      },
      "source": [
        "cmap = plt.get_cmap('inferno')\n",
        "\n",
        "plt.figure(figsize=(10,10))\n",
        "genres = 'blues classical country disco hiphop jazz metal pop reggae rock'.split()\n",
        "for g in genres:\n",
        "    pathlib.Path(f'/content/drive/My Drive/datasets/img_data/{g}').mkdir(parents=True, exist_ok=True)     \n",
        "    for filename in os.listdir(f'/content/drive/My Drive/datasets/genres/{g}'):\n",
        "        songname = f'/content/drive/My Drive/datasets/genres/{g}/{filename}'\n",
        "        y, sr = librosa.load(songname, mono=True, duration=5)\n",
        "        plt.specgram(y, NFFT=2048, Fs=2, Fc=0, noverlap=128, cmap=cmap, sides='default', mode='default', scale='dB');\n",
        "        plt.axis('off');\n",
        "        plt.savefig(f'/content/drive/My Drive/datasets/img_data/{g}/{filename[:-3].replace(\".\", \"\")}.png')\n",
        "        plt.clf()\n",
        " "
      ],
      "execution_count": 32,
      "outputs": [
        {
          "output_type": "display_data",
          "data": {
            "text/plain": [
              "<Figure size 720x720 with 0 Axes>"
            ]
          },
          "metadata": {
            "tags": []
          }
        }
      ]
    },
    {
      "cell_type": "markdown",
      "metadata": {
        "colab_type": "text",
        "id": "SszVgjYnFNX9"
      },
      "source": [
        "All the audio files get converted into their respective spectrograms .WE can noe easily extract features from them."
      ]
    },
    {
      "cell_type": "markdown",
      "metadata": {
        "colab_type": "text",
        "id": "3Nw9HpSdFRsW"
      },
      "source": [
        ""
      ]
    },
    {
      "cell_type": "markdown",
      "metadata": {
        "colab_type": "text",
        "id": "piwUwgP5Eef9"
      },
      "source": [
        "## Extracting features from Spectrogram\n",
        "\n",
        "\n",
        "We will extract\n",
        "\n",
        "* Mel-frequency cepstral coefficients (MFCC)(20 in number)\n",
        "* Spectral Centroid,\n",
        "* Zero Crossing Rate\n",
        "* Chroma Frequencies\n",
        "* Spectral Roll-off."
      ]
    },
    {
      "cell_type": "code",
      "metadata": {
        "colab_type": "code",
        "id": "__g8tX8pDeIL",
        "colab": {}
      },
      "source": [
        "header = 'filename chroma_stft rmse spectral_centroid spectral_bandwidth rolloff zero_crossing_rate'\n",
        "for i in range(1, 21):\n",
        "    header += f' mfcc{i}'\n",
        "header += ' label'\n",
        "header = header.split()"
      ],
      "execution_count": 0,
      "outputs": []
    },
    {
      "cell_type": "markdown",
      "metadata": {
        "colab_type": "text",
        "id": "TBlT448pEqR9"
      },
      "source": [
        "## Writing data to csv file\n",
        "\n",
        "We write the data to a csv file "
      ]
    },
    {
      "cell_type": "code",
      "metadata": {
        "colab_type": "code",
        "id": "ZsSQmB0PE3Iu",
        "colab": {}
      },
      "source": [
        "file = open('data.csv', 'w', newline='')\n",
        "with file:\n",
        "    writer = csv.writer(file)\n",
        "    writer.writerow(header)\n",
        "genres = 'blues classical country disco hiphop jazz metal pop reggae rock'.split()\n",
        "for g in genres:\n",
        "    for filename in os.listdir(f'/content/drive/My Drive/datasets/genres/{g}'):\n",
        "        songname = f'/content/drive/My Drive/datasets/genres/{g}/{filename}'\n",
        "        y, sr = librosa.load(songname, mono=True, duration=30)\n",
        "        chroma_stft = librosa.feature.chroma_stft(y=y, sr=sr)\n",
        "        spec_cent = librosa.feature.spectral_centroid(y=y, sr=sr)\n",
        "        spec_bw = librosa.feature.spectral_bandwidth(y=y, sr=sr)\n",
        "        rolloff = librosa.feature.spectral_rolloff(y=y, sr=sr)\n",
        "        zcr = librosa.feature.zero_crossing_rate(y)\n",
        "        mfcc = librosa.feature.mfcc(y=y, sr=sr)\n",
        "        rmse = librosa.feature.rms(y=y)\n",
        "        to_append = f'{filename} {np.mean(chroma_stft)} {np.mean(rmse)} {np.mean(spec_cent)} {np.mean(spec_bw)} {np.mean(rolloff)} {np.mean(zcr)}'    \n",
        "        for e in mfcc:\n",
        "            to_append += f' {np.mean(e)}'\n",
        "        to_append += f' {g}'\n",
        "        file = open('data.csv', 'a', newline='')\n",
        "        with file:\n",
        "            writer = csv.writer(file)\n",
        "            writer.writerow(to_append.split())"
      ],
      "execution_count": 0,
      "outputs": []
    },
    {
      "cell_type": "markdown",
      "metadata": {
        "colab_type": "text",
        "id": "0yfdo1cj6V7d"
      },
      "source": [
        "The data has been extracted into a [data.csv](https://github.com/parulnith/Music-Genre-Classification-with-Python/blob/master/data.csv) file."
      ]
    },
    {
      "cell_type": "markdown",
      "metadata": {
        "colab_type": "text",
        "id": "fgeCZSKQEp1A"
      },
      "source": [
        "# Analysing the Data in Pandas"
      ]
    },
    {
      "cell_type": "code",
      "metadata": {
        "colab_type": "code",
        "id": "Kr5_EdpD9dyh",
        "outputId": "f1c48347-afff-4d6c-8320-e296f56c61ad",
        "colab": {
          "base_uri": "https://localhost:8080/",
          "height": 224
        }
      },
      "source": [
        "data = pd.read_csv('/content/drive/My Drive/datasets/deepAudioClassification.csv')\n",
        "data.head()"
      ],
      "execution_count": 2,
      "outputs": [
        {
          "output_type": "execute_result",
          "data": {
            "text/html": [
              "<div>\n",
              "<style scoped>\n",
              "    .dataframe tbody tr th:only-of-type {\n",
              "        vertical-align: middle;\n",
              "    }\n",
              "\n",
              "    .dataframe tbody tr th {\n",
              "        vertical-align: top;\n",
              "    }\n",
              "\n",
              "    .dataframe thead th {\n",
              "        text-align: right;\n",
              "    }\n",
              "</style>\n",
              "<table border=\"1\" class=\"dataframe\">\n",
              "  <thead>\n",
              "    <tr style=\"text-align: right;\">\n",
              "      <th></th>\n",
              "      <th>filename</th>\n",
              "      <th>chroma_stft</th>\n",
              "      <th>rmse</th>\n",
              "      <th>spectral_centroid</th>\n",
              "      <th>spectral_bandwidth</th>\n",
              "      <th>rolloff</th>\n",
              "      <th>zero_crossing_rate</th>\n",
              "      <th>mfcc1</th>\n",
              "      <th>mfcc2</th>\n",
              "      <th>mfcc3</th>\n",
              "      <th>mfcc4</th>\n",
              "      <th>mfcc5</th>\n",
              "      <th>mfcc6</th>\n",
              "      <th>mfcc7</th>\n",
              "      <th>mfcc8</th>\n",
              "      <th>mfcc9</th>\n",
              "      <th>mfcc10</th>\n",
              "      <th>mfcc11</th>\n",
              "      <th>mfcc12</th>\n",
              "      <th>mfcc13</th>\n",
              "      <th>mfcc14</th>\n",
              "      <th>mfcc15</th>\n",
              "      <th>mfcc16</th>\n",
              "      <th>mfcc17</th>\n",
              "      <th>mfcc18</th>\n",
              "      <th>mfcc19</th>\n",
              "      <th>mfcc20</th>\n",
              "      <th>label</th>\n",
              "    </tr>\n",
              "  </thead>\n",
              "  <tbody>\n",
              "    <tr>\n",
              "      <th>0</th>\n",
              "      <td>blues.00093.wav</td>\n",
              "      <td>0.377690</td>\n",
              "      <td>0.065906</td>\n",
              "      <td>569.930721</td>\n",
              "      <td>995.407125</td>\n",
              "      <td>927.427725</td>\n",
              "      <td>0.021701</td>\n",
              "      <td>-350.436188</td>\n",
              "      <td>169.545746</td>\n",
              "      <td>31.820370</td>\n",
              "      <td>16.682835</td>\n",
              "      <td>28.710146</td>\n",
              "      <td>19.256973</td>\n",
              "      <td>7.863395</td>\n",
              "      <td>10.036764</td>\n",
              "      <td>4.735106</td>\n",
              "      <td>2.907466</td>\n",
              "      <td>3.915553</td>\n",
              "      <td>1.821690</td>\n",
              "      <td>-5.970891</td>\n",
              "      <td>-5.259567</td>\n",
              "      <td>-0.229211</td>\n",
              "      <td>-1.776850</td>\n",
              "      <td>-3.713751</td>\n",
              "      <td>0.181591</td>\n",
              "      <td>2.072390</td>\n",
              "      <td>-2.896225</td>\n",
              "      <td>blues</td>\n",
              "    </tr>\n",
              "    <tr>\n",
              "      <th>1</th>\n",
              "      <td>blues.00087.wav</td>\n",
              "      <td>0.336773</td>\n",
              "      <td>0.158098</td>\n",
              "      <td>1442.190271</td>\n",
              "      <td>1870.534155</td>\n",
              "      <td>3083.414688</td>\n",
              "      <td>0.050889</td>\n",
              "      <td>-155.504929</td>\n",
              "      <td>125.638863</td>\n",
              "      <td>1.596553</td>\n",
              "      <td>45.804523</td>\n",
              "      <td>0.900778</td>\n",
              "      <td>25.367563</td>\n",
              "      <td>-10.787497</td>\n",
              "      <td>15.566381</td>\n",
              "      <td>-11.920467</td>\n",
              "      <td>1.264441</td>\n",
              "      <td>-6.649821</td>\n",
              "      <td>-0.792893</td>\n",
              "      <td>-7.748057</td>\n",
              "      <td>0.413548</td>\n",
              "      <td>-7.030263</td>\n",
              "      <td>3.997679</td>\n",
              "      <td>-6.256611</td>\n",
              "      <td>0.958227</td>\n",
              "      <td>2.019821</td>\n",
              "      <td>-5.742188</td>\n",
              "      <td>blues</td>\n",
              "    </tr>\n",
              "    <tr>\n",
              "      <th>2</th>\n",
              "      <td>blues.00050.wav</td>\n",
              "      <td>0.400860</td>\n",
              "      <td>0.182380</td>\n",
              "      <td>1945.848425</td>\n",
              "      <td>2082.246626</td>\n",
              "      <td>4175.874749</td>\n",
              "      <td>0.085806</td>\n",
              "      <td>-82.979019</td>\n",
              "      <td>107.052124</td>\n",
              "      <td>-25.320452</td>\n",
              "      <td>57.124992</td>\n",
              "      <td>0.085439</td>\n",
              "      <td>34.696800</td>\n",
              "      <td>-11.042020</td>\n",
              "      <td>20.532696</td>\n",
              "      <td>-11.213177</td>\n",
              "      <td>14.834125</td>\n",
              "      <td>-10.229334</td>\n",
              "      <td>12.539581</td>\n",
              "      <td>-9.762303</td>\n",
              "      <td>2.562253</td>\n",
              "      <td>-6.300853</td>\n",
              "      <td>2.996785</td>\n",
              "      <td>-8.718455</td>\n",
              "      <td>-0.326581</td>\n",
              "      <td>-2.980347</td>\n",
              "      <td>0.712600</td>\n",
              "      <td>blues</td>\n",
              "    </tr>\n",
              "    <tr>\n",
              "      <th>3</th>\n",
              "      <td>blues.00044.wav</td>\n",
              "      <td>0.390212</td>\n",
              "      <td>0.136276</td>\n",
              "      <td>2279.124558</td>\n",
              "      <td>2375.102120</td>\n",
              "      <td>5198.360233</td>\n",
              "      <td>0.092570</td>\n",
              "      <td>-109.509285</td>\n",
              "      <td>86.922409</td>\n",
              "      <td>-8.607986</td>\n",
              "      <td>64.494560</td>\n",
              "      <td>-6.304128</td>\n",
              "      <td>43.639511</td>\n",
              "      <td>-8.286754</td>\n",
              "      <td>28.546106</td>\n",
              "      <td>-14.079794</td>\n",
              "      <td>8.125041</td>\n",
              "      <td>-21.491404</td>\n",
              "      <td>11.087481</td>\n",
              "      <td>-5.085794</td>\n",
              "      <td>3.976360</td>\n",
              "      <td>-12.859742</td>\n",
              "      <td>12.343859</td>\n",
              "      <td>0.026216</td>\n",
              "      <td>-0.741568</td>\n",
              "      <td>-5.126620</td>\n",
              "      <td>3.303442</td>\n",
              "      <td>blues</td>\n",
              "    </tr>\n",
              "    <tr>\n",
              "      <th>4</th>\n",
              "      <td>blues.00078.wav</td>\n",
              "      <td>0.414188</td>\n",
              "      <td>0.258052</td>\n",
              "      <td>2333.685108</td>\n",
              "      <td>2227.425609</td>\n",
              "      <td>4942.811778</td>\n",
              "      <td>0.123863</td>\n",
              "      <td>-2.524338</td>\n",
              "      <td>101.252716</td>\n",
              "      <td>-33.924385</td>\n",
              "      <td>41.516891</td>\n",
              "      <td>-13.804996</td>\n",
              "      <td>31.919870</td>\n",
              "      <td>-21.864820</td>\n",
              "      <td>24.458441</td>\n",
              "      <td>-15.880980</td>\n",
              "      <td>15.789354</td>\n",
              "      <td>-14.366657</td>\n",
              "      <td>12.506608</td>\n",
              "      <td>-13.368823</td>\n",
              "      <td>6.112817</td>\n",
              "      <td>-9.065890</td>\n",
              "      <td>5.033774</td>\n",
              "      <td>-11.330276</td>\n",
              "      <td>3.166534</td>\n",
              "      <td>-4.567591</td>\n",
              "      <td>-4.033623</td>\n",
              "      <td>blues</td>\n",
              "    </tr>\n",
              "  </tbody>\n",
              "</table>\n",
              "</div>"
            ],
            "text/plain": [
              "          filename  chroma_stft      rmse  ...    mfcc19    mfcc20  label\n",
              "0  blues.00093.wav     0.377690  0.065906  ...  2.072390 -2.896225  blues\n",
              "1  blues.00087.wav     0.336773  0.158098  ...  2.019821 -5.742188  blues\n",
              "2  blues.00050.wav     0.400860  0.182380  ... -2.980347  0.712600  blues\n",
              "3  blues.00044.wav     0.390212  0.136276  ... -5.126620  3.303442  blues\n",
              "4  blues.00078.wav     0.414188  0.258052  ... -4.567591 -4.033623  blues\n",
              "\n",
              "[5 rows x 28 columns]"
            ]
          },
          "metadata": {
            "tags": []
          },
          "execution_count": 2
        }
      ]
    },
    {
      "cell_type": "code",
      "metadata": {
        "colab_type": "code",
        "id": "iHrDHCaR9gKR",
        "outputId": "f73e739c-6d20-45c9-c73b-ee125947877d",
        "colab": {
          "base_uri": "https://localhost:8080/",
          "height": 34
        }
      },
      "source": [
        "data.shape"
      ],
      "execution_count": 3,
      "outputs": [
        {
          "output_type": "execute_result",
          "data": {
            "text/plain": [
              "(1000, 28)"
            ]
          },
          "metadata": {
            "tags": []
          },
          "execution_count": 3
        }
      ]
    },
    {
      "cell_type": "code",
      "metadata": {
        "colab_type": "code",
        "id": "veD5BgX49hZa",
        "colab": {}
      },
      "source": [
        "# Dropping unneccesary columns\n",
        "data = data.drop(['filename'],axis=1)"
      ],
      "execution_count": 0,
      "outputs": []
    },
    {
      "cell_type": "code",
      "metadata": {
        "id": "Dsm_mIloZNHC",
        "colab_type": "code",
        "colab": {
          "base_uri": "https://localhost:8080/",
          "height": 224
        },
        "outputId": "fa4999b5-d50f-4e2a-b97c-4944d400ca40"
      },
      "source": [
        "data.head(5)"
      ],
      "execution_count": 61,
      "outputs": [
        {
          "output_type": "execute_result",
          "data": {
            "text/html": [
              "<div>\n",
              "<style scoped>\n",
              "    .dataframe tbody tr th:only-of-type {\n",
              "        vertical-align: middle;\n",
              "    }\n",
              "\n",
              "    .dataframe tbody tr th {\n",
              "        vertical-align: top;\n",
              "    }\n",
              "\n",
              "    .dataframe thead th {\n",
              "        text-align: right;\n",
              "    }\n",
              "</style>\n",
              "<table border=\"1\" class=\"dataframe\">\n",
              "  <thead>\n",
              "    <tr style=\"text-align: right;\">\n",
              "      <th></th>\n",
              "      <th>chroma_stft</th>\n",
              "      <th>rmse</th>\n",
              "      <th>spectral_centroid</th>\n",
              "      <th>spectral_bandwidth</th>\n",
              "      <th>rolloff</th>\n",
              "      <th>zero_crossing_rate</th>\n",
              "      <th>mfcc1</th>\n",
              "      <th>mfcc2</th>\n",
              "      <th>mfcc3</th>\n",
              "      <th>mfcc4</th>\n",
              "      <th>mfcc5</th>\n",
              "      <th>mfcc6</th>\n",
              "      <th>mfcc7</th>\n",
              "      <th>mfcc8</th>\n",
              "      <th>mfcc9</th>\n",
              "      <th>mfcc10</th>\n",
              "      <th>mfcc11</th>\n",
              "      <th>mfcc12</th>\n",
              "      <th>mfcc13</th>\n",
              "      <th>mfcc14</th>\n",
              "      <th>mfcc15</th>\n",
              "      <th>mfcc16</th>\n",
              "      <th>mfcc17</th>\n",
              "      <th>mfcc18</th>\n",
              "      <th>mfcc19</th>\n",
              "      <th>mfcc20</th>\n",
              "      <th>label</th>\n",
              "    </tr>\n",
              "  </thead>\n",
              "  <tbody>\n",
              "    <tr>\n",
              "      <th>0</th>\n",
              "      <td>0.377690</td>\n",
              "      <td>0.065906</td>\n",
              "      <td>569.930721</td>\n",
              "      <td>995.407125</td>\n",
              "      <td>927.427725</td>\n",
              "      <td>0.021701</td>\n",
              "      <td>-350.436188</td>\n",
              "      <td>169.545746</td>\n",
              "      <td>31.820370</td>\n",
              "      <td>16.682835</td>\n",
              "      <td>28.710146</td>\n",
              "      <td>19.256973</td>\n",
              "      <td>7.863395</td>\n",
              "      <td>10.036764</td>\n",
              "      <td>4.735106</td>\n",
              "      <td>2.907466</td>\n",
              "      <td>3.915553</td>\n",
              "      <td>1.821690</td>\n",
              "      <td>-5.970891</td>\n",
              "      <td>-5.259567</td>\n",
              "      <td>-0.229211</td>\n",
              "      <td>-1.776850</td>\n",
              "      <td>-3.713751</td>\n",
              "      <td>0.181591</td>\n",
              "      <td>2.072390</td>\n",
              "      <td>-2.896225</td>\n",
              "      <td>blues</td>\n",
              "    </tr>\n",
              "    <tr>\n",
              "      <th>1</th>\n",
              "      <td>0.336773</td>\n",
              "      <td>0.158098</td>\n",
              "      <td>1442.190271</td>\n",
              "      <td>1870.534155</td>\n",
              "      <td>3083.414688</td>\n",
              "      <td>0.050889</td>\n",
              "      <td>-155.504929</td>\n",
              "      <td>125.638863</td>\n",
              "      <td>1.596553</td>\n",
              "      <td>45.804523</td>\n",
              "      <td>0.900778</td>\n",
              "      <td>25.367563</td>\n",
              "      <td>-10.787497</td>\n",
              "      <td>15.566381</td>\n",
              "      <td>-11.920467</td>\n",
              "      <td>1.264441</td>\n",
              "      <td>-6.649821</td>\n",
              "      <td>-0.792893</td>\n",
              "      <td>-7.748057</td>\n",
              "      <td>0.413548</td>\n",
              "      <td>-7.030263</td>\n",
              "      <td>3.997679</td>\n",
              "      <td>-6.256611</td>\n",
              "      <td>0.958227</td>\n",
              "      <td>2.019821</td>\n",
              "      <td>-5.742188</td>\n",
              "      <td>blues</td>\n",
              "    </tr>\n",
              "    <tr>\n",
              "      <th>2</th>\n",
              "      <td>0.400860</td>\n",
              "      <td>0.182380</td>\n",
              "      <td>1945.848425</td>\n",
              "      <td>2082.246626</td>\n",
              "      <td>4175.874749</td>\n",
              "      <td>0.085806</td>\n",
              "      <td>-82.979019</td>\n",
              "      <td>107.052124</td>\n",
              "      <td>-25.320452</td>\n",
              "      <td>57.124992</td>\n",
              "      <td>0.085439</td>\n",
              "      <td>34.696800</td>\n",
              "      <td>-11.042020</td>\n",
              "      <td>20.532696</td>\n",
              "      <td>-11.213177</td>\n",
              "      <td>14.834125</td>\n",
              "      <td>-10.229334</td>\n",
              "      <td>12.539581</td>\n",
              "      <td>-9.762303</td>\n",
              "      <td>2.562253</td>\n",
              "      <td>-6.300853</td>\n",
              "      <td>2.996785</td>\n",
              "      <td>-8.718455</td>\n",
              "      <td>-0.326581</td>\n",
              "      <td>-2.980347</td>\n",
              "      <td>0.712600</td>\n",
              "      <td>blues</td>\n",
              "    </tr>\n",
              "    <tr>\n",
              "      <th>3</th>\n",
              "      <td>0.390212</td>\n",
              "      <td>0.136276</td>\n",
              "      <td>2279.124558</td>\n",
              "      <td>2375.102120</td>\n",
              "      <td>5198.360233</td>\n",
              "      <td>0.092570</td>\n",
              "      <td>-109.509285</td>\n",
              "      <td>86.922409</td>\n",
              "      <td>-8.607986</td>\n",
              "      <td>64.494560</td>\n",
              "      <td>-6.304128</td>\n",
              "      <td>43.639511</td>\n",
              "      <td>-8.286754</td>\n",
              "      <td>28.546106</td>\n",
              "      <td>-14.079794</td>\n",
              "      <td>8.125041</td>\n",
              "      <td>-21.491404</td>\n",
              "      <td>11.087481</td>\n",
              "      <td>-5.085794</td>\n",
              "      <td>3.976360</td>\n",
              "      <td>-12.859742</td>\n",
              "      <td>12.343859</td>\n",
              "      <td>0.026216</td>\n",
              "      <td>-0.741568</td>\n",
              "      <td>-5.126620</td>\n",
              "      <td>3.303442</td>\n",
              "      <td>blues</td>\n",
              "    </tr>\n",
              "    <tr>\n",
              "      <th>4</th>\n",
              "      <td>0.414188</td>\n",
              "      <td>0.258052</td>\n",
              "      <td>2333.685108</td>\n",
              "      <td>2227.425609</td>\n",
              "      <td>4942.811778</td>\n",
              "      <td>0.123863</td>\n",
              "      <td>-2.524338</td>\n",
              "      <td>101.252716</td>\n",
              "      <td>-33.924385</td>\n",
              "      <td>41.516891</td>\n",
              "      <td>-13.804996</td>\n",
              "      <td>31.919870</td>\n",
              "      <td>-21.864820</td>\n",
              "      <td>24.458441</td>\n",
              "      <td>-15.880980</td>\n",
              "      <td>15.789354</td>\n",
              "      <td>-14.366657</td>\n",
              "      <td>12.506608</td>\n",
              "      <td>-13.368823</td>\n",
              "      <td>6.112817</td>\n",
              "      <td>-9.065890</td>\n",
              "      <td>5.033774</td>\n",
              "      <td>-11.330276</td>\n",
              "      <td>3.166534</td>\n",
              "      <td>-4.567591</td>\n",
              "      <td>-4.033623</td>\n",
              "      <td>blues</td>\n",
              "    </tr>\n",
              "  </tbody>\n",
              "</table>\n",
              "</div>"
            ],
            "text/plain": [
              "   chroma_stft      rmse  spectral_centroid  ...    mfcc19    mfcc20  label\n",
              "0     0.377690  0.065906         569.930721  ...  2.072390 -2.896225  blues\n",
              "1     0.336773  0.158098        1442.190271  ...  2.019821 -5.742188  blues\n",
              "2     0.400860  0.182380        1945.848425  ... -2.980347  0.712600  blues\n",
              "3     0.390212  0.136276        2279.124558  ... -5.126620  3.303442  blues\n",
              "4     0.414188  0.258052        2333.685108  ... -4.567591 -4.033623  blues\n",
              "\n",
              "[5 rows x 27 columns]"
            ]
          },
          "metadata": {
            "tags": []
          },
          "execution_count": 61
        }
      ]
    },
    {
      "cell_type": "code",
      "metadata": {
        "id": "bqEbSrzvZMnM",
        "colab_type": "code",
        "colab": {
          "base_uri": "https://localhost:8080/",
          "height": 439
        },
        "outputId": "f79a81d6-ea9f-4723-be08-01a9644c637f"
      },
      "source": [
        "data.iloc[:, :-2]"
      ],
      "execution_count": 70,
      "outputs": [
        {
          "output_type": "execute_result",
          "data": {
            "text/html": [
              "<div>\n",
              "<style scoped>\n",
              "    .dataframe tbody tr th:only-of-type {\n",
              "        vertical-align: middle;\n",
              "    }\n",
              "\n",
              "    .dataframe tbody tr th {\n",
              "        vertical-align: top;\n",
              "    }\n",
              "\n",
              "    .dataframe thead th {\n",
              "        text-align: right;\n",
              "    }\n",
              "</style>\n",
              "<table border=\"1\" class=\"dataframe\">\n",
              "  <thead>\n",
              "    <tr style=\"text-align: right;\">\n",
              "      <th></th>\n",
              "      <th>chroma_stft</th>\n",
              "      <th>rmse</th>\n",
              "      <th>spectral_centroid</th>\n",
              "      <th>spectral_bandwidth</th>\n",
              "      <th>rolloff</th>\n",
              "      <th>zero_crossing_rate</th>\n",
              "      <th>mfcc1</th>\n",
              "      <th>mfcc2</th>\n",
              "      <th>mfcc3</th>\n",
              "      <th>mfcc4</th>\n",
              "      <th>mfcc5</th>\n",
              "      <th>mfcc6</th>\n",
              "      <th>mfcc7</th>\n",
              "      <th>mfcc8</th>\n",
              "      <th>mfcc9</th>\n",
              "      <th>mfcc10</th>\n",
              "      <th>mfcc11</th>\n",
              "      <th>mfcc12</th>\n",
              "      <th>mfcc13</th>\n",
              "      <th>mfcc14</th>\n",
              "      <th>mfcc15</th>\n",
              "      <th>mfcc16</th>\n",
              "      <th>mfcc17</th>\n",
              "      <th>mfcc18</th>\n",
              "      <th>mfcc19</th>\n",
              "    </tr>\n",
              "  </thead>\n",
              "  <tbody>\n",
              "    <tr>\n",
              "      <th>0</th>\n",
              "      <td>0.377690</td>\n",
              "      <td>0.065906</td>\n",
              "      <td>569.930721</td>\n",
              "      <td>995.407125</td>\n",
              "      <td>927.427725</td>\n",
              "      <td>0.021701</td>\n",
              "      <td>-350.436188</td>\n",
              "      <td>169.545746</td>\n",
              "      <td>31.820370</td>\n",
              "      <td>16.682835</td>\n",
              "      <td>28.710146</td>\n",
              "      <td>19.256973</td>\n",
              "      <td>7.863395</td>\n",
              "      <td>10.036764</td>\n",
              "      <td>4.735106</td>\n",
              "      <td>2.907466</td>\n",
              "      <td>3.915553</td>\n",
              "      <td>1.821690</td>\n",
              "      <td>-5.970891</td>\n",
              "      <td>-5.259567</td>\n",
              "      <td>-0.229211</td>\n",
              "      <td>-1.776850</td>\n",
              "      <td>-3.713751</td>\n",
              "      <td>0.181591</td>\n",
              "      <td>2.072390</td>\n",
              "    </tr>\n",
              "    <tr>\n",
              "      <th>1</th>\n",
              "      <td>0.336773</td>\n",
              "      <td>0.158098</td>\n",
              "      <td>1442.190271</td>\n",
              "      <td>1870.534155</td>\n",
              "      <td>3083.414688</td>\n",
              "      <td>0.050889</td>\n",
              "      <td>-155.504929</td>\n",
              "      <td>125.638863</td>\n",
              "      <td>1.596553</td>\n",
              "      <td>45.804523</td>\n",
              "      <td>0.900778</td>\n",
              "      <td>25.367563</td>\n",
              "      <td>-10.787497</td>\n",
              "      <td>15.566381</td>\n",
              "      <td>-11.920467</td>\n",
              "      <td>1.264441</td>\n",
              "      <td>-6.649821</td>\n",
              "      <td>-0.792893</td>\n",
              "      <td>-7.748057</td>\n",
              "      <td>0.413548</td>\n",
              "      <td>-7.030263</td>\n",
              "      <td>3.997679</td>\n",
              "      <td>-6.256611</td>\n",
              "      <td>0.958227</td>\n",
              "      <td>2.019821</td>\n",
              "    </tr>\n",
              "    <tr>\n",
              "      <th>2</th>\n",
              "      <td>0.400860</td>\n",
              "      <td>0.182380</td>\n",
              "      <td>1945.848425</td>\n",
              "      <td>2082.246626</td>\n",
              "      <td>4175.874749</td>\n",
              "      <td>0.085806</td>\n",
              "      <td>-82.979019</td>\n",
              "      <td>107.052124</td>\n",
              "      <td>-25.320452</td>\n",
              "      <td>57.124992</td>\n",
              "      <td>0.085439</td>\n",
              "      <td>34.696800</td>\n",
              "      <td>-11.042020</td>\n",
              "      <td>20.532696</td>\n",
              "      <td>-11.213177</td>\n",
              "      <td>14.834125</td>\n",
              "      <td>-10.229334</td>\n",
              "      <td>12.539581</td>\n",
              "      <td>-9.762303</td>\n",
              "      <td>2.562253</td>\n",
              "      <td>-6.300853</td>\n",
              "      <td>2.996785</td>\n",
              "      <td>-8.718455</td>\n",
              "      <td>-0.326581</td>\n",
              "      <td>-2.980347</td>\n",
              "    </tr>\n",
              "    <tr>\n",
              "      <th>3</th>\n",
              "      <td>0.390212</td>\n",
              "      <td>0.136276</td>\n",
              "      <td>2279.124558</td>\n",
              "      <td>2375.102120</td>\n",
              "      <td>5198.360233</td>\n",
              "      <td>0.092570</td>\n",
              "      <td>-109.509285</td>\n",
              "      <td>86.922409</td>\n",
              "      <td>-8.607986</td>\n",
              "      <td>64.494560</td>\n",
              "      <td>-6.304128</td>\n",
              "      <td>43.639511</td>\n",
              "      <td>-8.286754</td>\n",
              "      <td>28.546106</td>\n",
              "      <td>-14.079794</td>\n",
              "      <td>8.125041</td>\n",
              "      <td>-21.491404</td>\n",
              "      <td>11.087481</td>\n",
              "      <td>-5.085794</td>\n",
              "      <td>3.976360</td>\n",
              "      <td>-12.859742</td>\n",
              "      <td>12.343859</td>\n",
              "      <td>0.026216</td>\n",
              "      <td>-0.741568</td>\n",
              "      <td>-5.126620</td>\n",
              "    </tr>\n",
              "    <tr>\n",
              "      <th>4</th>\n",
              "      <td>0.414188</td>\n",
              "      <td>0.258052</td>\n",
              "      <td>2333.685108</td>\n",
              "      <td>2227.425609</td>\n",
              "      <td>4942.811778</td>\n",
              "      <td>0.123863</td>\n",
              "      <td>-2.524338</td>\n",
              "      <td>101.252716</td>\n",
              "      <td>-33.924385</td>\n",
              "      <td>41.516891</td>\n",
              "      <td>-13.804996</td>\n",
              "      <td>31.919870</td>\n",
              "      <td>-21.864820</td>\n",
              "      <td>24.458441</td>\n",
              "      <td>-15.880980</td>\n",
              "      <td>15.789354</td>\n",
              "      <td>-14.366657</td>\n",
              "      <td>12.506608</td>\n",
              "      <td>-13.368823</td>\n",
              "      <td>6.112817</td>\n",
              "      <td>-9.065890</td>\n",
              "      <td>5.033774</td>\n",
              "      <td>-11.330276</td>\n",
              "      <td>3.166534</td>\n",
              "      <td>-4.567591</td>\n",
              "    </tr>\n",
              "    <tr>\n",
              "      <th>...</th>\n",
              "      <td>...</td>\n",
              "      <td>...</td>\n",
              "      <td>...</td>\n",
              "      <td>...</td>\n",
              "      <td>...</td>\n",
              "      <td>...</td>\n",
              "      <td>...</td>\n",
              "      <td>...</td>\n",
              "      <td>...</td>\n",
              "      <td>...</td>\n",
              "      <td>...</td>\n",
              "      <td>...</td>\n",
              "      <td>...</td>\n",
              "      <td>...</td>\n",
              "      <td>...</td>\n",
              "      <td>...</td>\n",
              "      <td>...</td>\n",
              "      <td>...</td>\n",
              "      <td>...</td>\n",
              "      <td>...</td>\n",
              "      <td>...</td>\n",
              "      <td>...</td>\n",
              "      <td>...</td>\n",
              "      <td>...</td>\n",
              "      <td>...</td>\n",
              "    </tr>\n",
              "    <tr>\n",
              "      <th>995</th>\n",
              "      <td>0.457221</td>\n",
              "      <td>0.124174</td>\n",
              "      <td>1867.235838</td>\n",
              "      <td>2422.256647</td>\n",
              "      <td>4270.982507</td>\n",
              "      <td>0.056988</td>\n",
              "      <td>-123.998863</td>\n",
              "      <td>109.507980</td>\n",
              "      <td>5.886388</td>\n",
              "      <td>32.896305</td>\n",
              "      <td>10.973795</td>\n",
              "      <td>11.686162</td>\n",
              "      <td>12.677259</td>\n",
              "      <td>12.976705</td>\n",
              "      <td>1.649139</td>\n",
              "      <td>4.498659</td>\n",
              "      <td>9.673376</td>\n",
              "      <td>3.063167</td>\n",
              "      <td>3.533335</td>\n",
              "      <td>0.729908</td>\n",
              "      <td>1.764981</td>\n",
              "      <td>-0.678046</td>\n",
              "      <td>-0.033834</td>\n",
              "      <td>-1.010613</td>\n",
              "      <td>-5.570284</td>\n",
              "    </tr>\n",
              "    <tr>\n",
              "      <th>996</th>\n",
              "      <td>0.392898</td>\n",
              "      <td>0.161538</td>\n",
              "      <td>2157.822776</td>\n",
              "      <td>2060.259516</td>\n",
              "      <td>4244.324335</td>\n",
              "      <td>0.121604</td>\n",
              "      <td>-55.298634</td>\n",
              "      <td>114.435890</td>\n",
              "      <td>-34.063801</td>\n",
              "      <td>37.979469</td>\n",
              "      <td>-22.325554</td>\n",
              "      <td>18.520617</td>\n",
              "      <td>-18.151169</td>\n",
              "      <td>13.802691</td>\n",
              "      <td>-27.798647</td>\n",
              "      <td>18.156794</td>\n",
              "      <td>-14.618975</td>\n",
              "      <td>6.550629</td>\n",
              "      <td>-8.267242</td>\n",
              "      <td>-2.256248</td>\n",
              "      <td>-11.608406</td>\n",
              "      <td>2.496105</td>\n",
              "      <td>-10.946154</td>\n",
              "      <td>0.705372</td>\n",
              "      <td>-0.678453</td>\n",
              "    </tr>\n",
              "    <tr>\n",
              "      <th>997</th>\n",
              "      <td>0.398055</td>\n",
              "      <td>0.152507</td>\n",
              "      <td>2188.376105</td>\n",
              "      <td>2120.348371</td>\n",
              "      <td>4433.073194</td>\n",
              "      <td>0.117590</td>\n",
              "      <td>-56.912151</td>\n",
              "      <td>115.195763</td>\n",
              "      <td>-30.433733</td>\n",
              "      <td>37.195583</td>\n",
              "      <td>-21.980320</td>\n",
              "      <td>21.864517</td>\n",
              "      <td>-19.757450</td>\n",
              "      <td>14.993086</td>\n",
              "      <td>-24.064768</td>\n",
              "      <td>17.783127</td>\n",
              "      <td>-17.268303</td>\n",
              "      <td>6.744224</td>\n",
              "      <td>-10.743413</td>\n",
              "      <td>0.814011</td>\n",
              "      <td>-10.161298</td>\n",
              "      <td>3.680640</td>\n",
              "      <td>-8.554656</td>\n",
              "      <td>-0.911824</td>\n",
              "      <td>-2.523441</td>\n",
              "    </tr>\n",
              "    <tr>\n",
              "      <th>998</th>\n",
              "      <td>0.421082</td>\n",
              "      <td>0.191175</td>\n",
              "      <td>2789.712144</td>\n",
              "      <td>2648.716877</td>\n",
              "      <td>5836.164710</td>\n",
              "      <td>0.135008</td>\n",
              "      <td>-28.061827</td>\n",
              "      <td>65.631660</td>\n",
              "      <td>-7.352339</td>\n",
              "      <td>33.593666</td>\n",
              "      <td>11.072847</td>\n",
              "      <td>14.760890</td>\n",
              "      <td>2.197583</td>\n",
              "      <td>10.065200</td>\n",
              "      <td>-0.329750</td>\n",
              "      <td>10.135974</td>\n",
              "      <td>-2.750565</td>\n",
              "      <td>3.189335</td>\n",
              "      <td>-1.685570</td>\n",
              "      <td>-0.161785</td>\n",
              "      <td>-1.691114</td>\n",
              "      <td>1.850430</td>\n",
              "      <td>-3.969524</td>\n",
              "      <td>-1.626861</td>\n",
              "      <td>-6.389011</td>\n",
              "    </tr>\n",
              "    <tr>\n",
              "      <th>999</th>\n",
              "      <td>0.408748</td>\n",
              "      <td>0.260914</td>\n",
              "      <td>1717.312205</td>\n",
              "      <td>1842.500561</td>\n",
              "      <td>3362.721333</td>\n",
              "      <td>0.084981</td>\n",
              "      <td>-14.910253</td>\n",
              "      <td>138.420120</td>\n",
              "      <td>-41.889427</td>\n",
              "      <td>22.070244</td>\n",
              "      <td>-18.660637</td>\n",
              "      <td>31.994633</td>\n",
              "      <td>-20.366152</td>\n",
              "      <td>15.689840</td>\n",
              "      <td>-17.350269</td>\n",
              "      <td>14.861217</td>\n",
              "      <td>-8.898566</td>\n",
              "      <td>12.247994</td>\n",
              "      <td>-5.819694</td>\n",
              "      <td>9.968249</td>\n",
              "      <td>-3.163116</td>\n",
              "      <td>1.976028</td>\n",
              "      <td>-6.923685</td>\n",
              "      <td>3.121398</td>\n",
              "      <td>-2.987224</td>\n",
              "    </tr>\n",
              "  </tbody>\n",
              "</table>\n",
              "<p>1000 rows × 25 columns</p>\n",
              "</div>"
            ],
            "text/plain": [
              "     chroma_stft      rmse  spectral_centroid  ...     mfcc17    mfcc18    mfcc19\n",
              "0       0.377690  0.065906         569.930721  ...  -3.713751  0.181591  2.072390\n",
              "1       0.336773  0.158098        1442.190271  ...  -6.256611  0.958227  2.019821\n",
              "2       0.400860  0.182380        1945.848425  ...  -8.718455 -0.326581 -2.980347\n",
              "3       0.390212  0.136276        2279.124558  ...   0.026216 -0.741568 -5.126620\n",
              "4       0.414188  0.258052        2333.685108  ... -11.330276  3.166534 -4.567591\n",
              "..           ...       ...                ...  ...        ...       ...       ...\n",
              "995     0.457221  0.124174        1867.235838  ...  -0.033834 -1.010613 -5.570284\n",
              "996     0.392898  0.161538        2157.822776  ... -10.946154  0.705372 -0.678453\n",
              "997     0.398055  0.152507        2188.376105  ...  -8.554656 -0.911824 -2.523441\n",
              "998     0.421082  0.191175        2789.712144  ...  -3.969524 -1.626861 -6.389011\n",
              "999     0.408748  0.260914        1717.312205  ...  -6.923685  3.121398 -2.987224\n",
              "\n",
              "[1000 rows x 25 columns]"
            ]
          },
          "metadata": {
            "tags": []
          },
          "execution_count": 70
        }
      ]
    },
    {
      "cell_type": "markdown",
      "metadata": {
        "colab_type": "text",
        "id": "Nyr0aAAsGXjZ"
      },
      "source": [
        "## Encoding the Labels"
      ]
    },
    {
      "cell_type": "code",
      "metadata": {
        "colab_type": "code",
        "id": "frI5HH4q-1HS",
        "colab": {}
      },
      "source": [
        "genre_list = data.iloc[:, -1] #all rows last column only\n",
        "encoder = LabelEncoder()\n",
        "y = encoder.fit_transform(genre_list)\n",
        "\n",
        "# iloc explanation:\n",
        "# df.iloc[:3] # slice your object, i.e. first three rows of your dataframe\n",
        "# df.iloc[0:3] # same\n",
        "# df.iloc[0, 1] # index both axis. Select the element from the first row, second column.\n",
        "# df.iloc[:, 0:5] # first five columns of data frame with all rows\n",
        "# data.iloc[:, -2:] #last two columns only\n",
        "# data.iloc[:, :-2] #all columns except the last 2 columns"
      ],
      "execution_count": 0,
      "outputs": []
    },
    {
      "cell_type": "markdown",
      "metadata": {
        "colab_type": "text",
        "id": "Slm8W0-iGVhI"
      },
      "source": [
        ""
      ]
    },
    {
      "cell_type": "markdown",
      "metadata": {
        "colab_type": "text",
        "id": "_2n8a02zGfvP"
      },
      "source": [
        "## Scaling the Feature columns"
      ]
    },
    {
      "cell_type": "code",
      "metadata": {
        "colab_type": "code",
        "id": "uqcqn-nyAofk",
        "colab": {}
      },
      "source": [
        "scaler = StandardScaler()\n",
        "X = scaler.fit_transform(np.array(data.iloc[:, :-1], dtype = float)) #select all columns except the last column"
      ],
      "execution_count": 0,
      "outputs": []
    },
    {
      "cell_type": "markdown",
      "metadata": {
        "colab_type": "text",
        "id": "e3VZvbwpGo9R"
      },
      "source": [
        "## Dividing data into training and Testing set"
      ]
    },
    {
      "cell_type": "code",
      "metadata": {
        "colab_type": "code",
        "id": "F1GW3VvQA7Rj",
        "colab": {}
      },
      "source": [
        "X_train, X_test, y_train, y_test = train_test_split(X, y, test_size=0.2)"
      ],
      "execution_count": 0,
      "outputs": []
    },
    {
      "cell_type": "code",
      "metadata": {
        "colab_type": "code",
        "id": "upuczQ-KBHJ5",
        "outputId": "7bb9bd8d-eac6-4d39-d756-921e60af5349",
        "colab": {
          "base_uri": "https://localhost:8080/",
          "height": 34
        }
      },
      "source": [
        "len(y_train)"
      ],
      "execution_count": 8,
      "outputs": [
        {
          "output_type": "execute_result",
          "data": {
            "text/plain": [
              "800"
            ]
          },
          "metadata": {
            "tags": []
          },
          "execution_count": 8
        }
      ]
    },
    {
      "cell_type": "code",
      "metadata": {
        "colab_type": "code",
        "id": "LtoE_FqqBzM8",
        "outputId": "554bf58c-ceac-492b-8819-1abf60e47b4f",
        "colab": {
          "base_uri": "https://localhost:8080/",
          "height": 34
        }
      },
      "source": [
        "len(y_test)"
      ],
      "execution_count": 9,
      "outputs": [
        {
          "output_type": "execute_result",
          "data": {
            "text/plain": [
              "200"
            ]
          },
          "metadata": {
            "tags": []
          },
          "execution_count": 9
        }
      ]
    },
    {
      "cell_type": "code",
      "metadata": {
        "colab_type": "code",
        "id": "ir9XaWgQB0lq",
        "outputId": "8772a5fa-33bd-443f-ade7-6536b86f0767",
        "colab": {
          "base_uri": "https://localhost:8080/",
          "height": 119
        }
      },
      "source": [
        "X_train[10]"
      ],
      "execution_count": 10,
      "outputs": [
        {
          "output_type": "execute_result",
          "data": {
            "text/plain": [
              "array([-0.03274575, -0.0684727 ,  0.65681563,  0.90153237,  0.71701141,\n",
              "        0.32975763,  0.50890659, -0.61854369,  0.39776375, -1.26193308,\n",
              "        0.45049663, -0.4713574 ,  0.68587321, -0.72436332,  0.3253998 ,\n",
              "       -0.8482127 ,  0.63446046, -1.11283218,  1.14392182, -0.77264476,\n",
              "        0.86236291, -1.20668409, -0.01768777, -0.95048712, -0.82427422,\n",
              "       -0.27316601])"
            ]
          },
          "metadata": {
            "tags": []
          },
          "execution_count": 10
        }
      ]
    },
    {
      "cell_type": "code",
      "metadata": {
        "id": "qT4YLmmJ838n",
        "colab_type": "code",
        "colab": {
          "base_uri": "https://localhost:8080/",
          "height": 34
        },
        "outputId": "6e48e7f5-1196-474b-89c9-88e51a3866a5"
      },
      "source": [
        "X_train.shape[1]"
      ],
      "execution_count": 14,
      "outputs": [
        {
          "output_type": "execute_result",
          "data": {
            "text/plain": [
              "26"
            ]
          },
          "metadata": {
            "tags": []
          },
          "execution_count": 14
        }
      ]
    },
    {
      "cell_type": "markdown",
      "metadata": {
        "colab_type": "text",
        "id": "Vp2yc5FWG04e"
      },
      "source": [
        "# Classification with Keras\n",
        "\n",
        "## Building our Network"
      ]
    },
    {
      "cell_type": "code",
      "metadata": {
        "colab_type": "code",
        "id": "Qj3sc2uFEUMt",
        "colab": {
          "base_uri": "https://localhost:8080/",
          "height": 289
        },
        "outputId": "65d14a70-3bb7-4ce3-fcab-ecd2e2a96b96"
      },
      "source": [
        "model = tf.keras.Sequential()\n",
        "model.add(tf.keras.layers.Dense(units=256, activation='relu', input_shape=(X_train.shape[1],)))\n",
        "model.add(tf.keras.layers.Dense(units=128, activation='relu'))\n",
        "model.add(tf.keras.layers.Dense(units=64, activation='relu'))\n",
        "model.add(tf.keras.layers.Dense(units=10, activation='softmax'))\n",
        "model.summary()"
      ],
      "execution_count": 11,
      "outputs": [
        {
          "output_type": "stream",
          "text": [
            "Model: \"sequential\"\n",
            "_________________________________________________________________\n",
            "Layer (type)                 Output Shape              Param #   \n",
            "=================================================================\n",
            "dense (Dense)                (None, 256)               6912      \n",
            "_________________________________________________________________\n",
            "dense_1 (Dense)              (None, 128)               32896     \n",
            "_________________________________________________________________\n",
            "dense_2 (Dense)              (None, 64)                8256      \n",
            "_________________________________________________________________\n",
            "dense_3 (Dense)              (None, 10)                650       \n",
            "=================================================================\n",
            "Total params: 48,714\n",
            "Trainable params: 48,714\n",
            "Non-trainable params: 0\n",
            "_________________________________________________________________\n"
          ],
          "name": "stdout"
        }
      ]
    },
    {
      "cell_type": "code",
      "metadata": {
        "colab_type": "code",
        "id": "7yrsmpI6EjJ2",
        "colab": {}
      },
      "source": [
        "model.compile(optimizer='Adam',\n",
        "              loss='sparse_categorical_crossentropy',\n",
        "              metrics=['accuracy'])"
      ],
      "execution_count": 0,
      "outputs": []
    },
    {
      "cell_type": "code",
      "metadata": {
        "colab_type": "code",
        "id": "bP0hVm4aElS7",
        "outputId": "3e13c919-aed3-444f-9fff-de266aa77838",
        "colab": {
          "base_uri": "https://localhost:8080/",
          "height": 717
        }
      },
      "source": [
        "history = model.fit(X_train,\n",
        "                    y_train,\n",
        "                    epochs=20,\n",
        "                    batch_size=128,\n",
        "                    validation_split = 0.2\n",
        "                    )\n",
        "                   "
      ],
      "execution_count": 28,
      "outputs": [
        {
          "output_type": "stream",
          "text": [
            "Epoch 1/20\n",
            "5/5 [==============================] - 0s 33ms/step - loss: 0.6543 - accuracy: 0.8031 - val_loss: 0.5779 - val_accuracy: 0.8000\n",
            "Epoch 2/20\n",
            "5/5 [==============================] - 0s 17ms/step - loss: 0.5879 - accuracy: 0.8219 - val_loss: 0.5428 - val_accuracy: 0.8062\n",
            "Epoch 3/20\n",
            "5/5 [==============================] - 0s 14ms/step - loss: 0.5126 - accuracy: 0.8469 - val_loss: 0.6598 - val_accuracy: 0.7688\n",
            "Epoch 4/20\n",
            "5/5 [==============================] - 0s 13ms/step - loss: 0.4676 - accuracy: 0.8547 - val_loss: 0.6316 - val_accuracy: 0.7750\n",
            "Epoch 5/20\n",
            "5/5 [==============================] - 0s 12ms/step - loss: 0.4342 - accuracy: 0.8750 - val_loss: 0.6766 - val_accuracy: 0.7688\n",
            "Epoch 6/20\n",
            "5/5 [==============================] - 0s 13ms/step - loss: 0.3971 - accuracy: 0.9031 - val_loss: 0.6550 - val_accuracy: 0.7688\n",
            "Epoch 7/20\n",
            "5/5 [==============================] - 0s 14ms/step - loss: 0.3527 - accuracy: 0.9078 - val_loss: 0.8075 - val_accuracy: 0.7375\n",
            "Epoch 8/20\n",
            "5/5 [==============================] - 0s 13ms/step - loss: 0.3304 - accuracy: 0.9031 - val_loss: 0.6800 - val_accuracy: 0.7688\n",
            "Epoch 9/20\n",
            "5/5 [==============================] - 0s 12ms/step - loss: 0.2834 - accuracy: 0.9281 - val_loss: 0.7382 - val_accuracy: 0.7750\n",
            "Epoch 10/20\n",
            "5/5 [==============================] - 0s 12ms/step - loss: 0.2595 - accuracy: 0.9328 - val_loss: 0.6972 - val_accuracy: 0.7500\n",
            "Epoch 11/20\n",
            "5/5 [==============================] - 0s 13ms/step - loss: 0.2254 - accuracy: 0.9578 - val_loss: 0.7407 - val_accuracy: 0.7437\n",
            "Epoch 12/20\n",
            "5/5 [==============================] - 0s 14ms/step - loss: 0.2003 - accuracy: 0.9625 - val_loss: 0.7498 - val_accuracy: 0.7563\n",
            "Epoch 13/20\n",
            "5/5 [==============================] - 0s 13ms/step - loss: 0.1806 - accuracy: 0.9641 - val_loss: 0.7605 - val_accuracy: 0.7188\n",
            "Epoch 14/20\n",
            "5/5 [==============================] - 0s 13ms/step - loss: 0.1614 - accuracy: 0.9688 - val_loss: 0.7887 - val_accuracy: 0.7437\n",
            "Epoch 15/20\n",
            "5/5 [==============================] - 0s 12ms/step - loss: 0.1421 - accuracy: 0.9797 - val_loss: 0.7951 - val_accuracy: 0.7125\n",
            "Epoch 16/20\n",
            "5/5 [==============================] - 0s 13ms/step - loss: 0.1292 - accuracy: 0.9828 - val_loss: 0.8050 - val_accuracy: 0.7312\n",
            "Epoch 17/20\n",
            "5/5 [==============================] - 0s 13ms/step - loss: 0.1135 - accuracy: 0.9797 - val_loss: 0.8401 - val_accuracy: 0.7437\n",
            "Epoch 18/20\n",
            "5/5 [==============================] - 0s 12ms/step - loss: 0.1022 - accuracy: 0.9922 - val_loss: 0.8538 - val_accuracy: 0.7375\n",
            "Epoch 19/20\n",
            "5/5 [==============================] - 0s 13ms/step - loss: 0.1001 - accuracy: 0.9828 - val_loss: 0.8978 - val_accuracy: 0.7125\n",
            "Epoch 20/20\n",
            "5/5 [==============================] - 0s 14ms/step - loss: 0.0828 - accuracy: 0.9891 - val_loss: 0.9190 - val_accuracy: 0.7437\n"
          ],
          "name": "stdout"
        }
      ]
    },
    {
      "cell_type": "code",
      "metadata": {
        "id": "KJdTeAAwABOP",
        "colab_type": "code",
        "colab": {
          "base_uri": "https://localhost:8080/",
          "height": 312
        },
        "outputId": "3fc4f9a9-44a6-4ab7-cfaa-df52b737f492"
      },
      "source": [
        "plt.plot(history.history['loss'])\n",
        "\n",
        "plt.plot(history.history['val_loss'])\n",
        "\n",
        "plt.title('Model Loss Progress During Training')\n",
        "\n",
        "plt.xlabel('Epoch')\n",
        "\n",
        "plt.ylabel('Training and Validation Loss')\n",
        "\n",
        "plt.legend(['Training Loss', 'Validation Loss'])"
      ],
      "execution_count": 29,
      "outputs": [
        {
          "output_type": "execute_result",
          "data": {
            "text/plain": [
              "<matplotlib.legend.Legend at 0x7ffa4a4e0048>"
            ]
          },
          "metadata": {
            "tags": []
          },
          "execution_count": 29
        },
        {
          "output_type": "display_data",
          "data": {
            "image/png": "[encoded data removed]",
            "text/plain": [
              "<Figure size 432x288 with 1 Axes>"
            ]
          },
          "metadata": {
            "tags": [],
            "needs_background": "light"
          }
        }
      ]
    },
    {
      "cell_type": "code",
      "metadata": {
        "colab_type": "code",
        "id": "0m1J0_wUFK4C",
        "outputId": "f82d8bc7-1c7b-4bdd-abfa-b51521f5874e",
        "colab": {
          "base_uri": "https://localhost:8080/",
          "height": 34
        }
      },
      "source": [
        "test_loss, test_acc = model.evaluate(X_test,y_test)"
      ],
      "execution_count": 18,
      "outputs": [
        {
          "output_type": "stream",
          "text": [
            "7/7 [==============================] - 0s 2ms/step - loss: 1.0197 - accuracy: 0.6500\n"
          ],
          "name": "stdout"
        }
      ]
    },
    {
      "cell_type": "code",
      "metadata": {
        "colab_type": "code",
        "id": "f6HrjXeUF0Ko",
        "outputId": "70b08645-da12-40a6-8bb4-20c6fda68d0d",
        "colab": {
          "base_uri": "https://localhost:8080/",
          "height": 34
        }
      },
      "source": [
        "print('test_acc: ',test_acc)"
      ],
      "execution_count": 19,
      "outputs": [
        {
          "output_type": "stream",
          "text": [
            "test_acc:  0.6499999761581421\n"
          ],
          "name": "stdout"
        }
      ]
    },
    {
      "cell_type": "markdown",
      "metadata": {
        "colab_type": "text",
        "id": "3yQmP_f5Kq0w"
      },
      "source": [
        "Tes accuracy is less than training dataa accuracy. This hints at Overfitting"
      ]
    },
    {
      "cell_type": "markdown",
      "metadata": {
        "colab_type": "text",
        "id": "-U2qzRJoHV9O"
      },
      "source": [
        "## Validating our approach\n",
        "Let's set apart 200 samples in our training data to use as a validation set:"
      ]
    },
    {
      "cell_type": "code",
      "metadata": {
        "colab_type": "code",
        "id": "xJNbvYZoF7ZT",
        "colab": {}
      },
      "source": [
        "x_val = X_train[:200]\n",
        "partial_x_train = X_train[200:]\n",
        "\n",
        "y_val = y_train[:200]\n",
        "partial_y_train = y_train[200:]"
      ],
      "execution_count": 0,
      "outputs": []
    },
    {
      "cell_type": "markdown",
      "metadata": {
        "colab_type": "text",
        "id": "L1EkG59EHeEV"
      },
      "source": [
        "Now let's train our network for 20 epochs:"
      ]
    },
    {
      "cell_type": "code",
      "metadata": {
        "colab_type": "code",
        "id": "Dp3G4P3aP4k2",
        "outputId": "1ae8a96d-19f7-4387-fc9e-b13805118c1f",
        "colab": {
          "base_uri": "https://localhost:8080/",
          "height": 1000
        }
      },
      "source": [
        "model = tf.keras.Sequential()\n",
        "model.add(tf.keras.layers.Dense(units=512, activation='relu', input_shape=(X_train.shape[1],)))\n",
        "model.add(tf.keras.layers.Dense(units=256, activation='relu'))\n",
        "model.add(tf.keras.layers.Dense(units=128, activation='relu'))\n",
        "model.add(tf.keras.layers.Dense(units=64, activation='relu'))\n",
        "model.add(tf.keras.layers.Dense(units=10, activation='softmax'))\n",
        "model.summary()\n",
        "\n",
        "model.compile(optimizer='adam',\n",
        "              loss='sparse_categorical_crossentropy',\n",
        "              metrics=['accuracy'])\n",
        "\n",
        "model.fit(partial_x_train,\n",
        "          partial_y_train,\n",
        "          epochs=30,\n",
        "          batch_size=512,\n",
        "          validation_data=(x_val, y_val))\n",
        "results = model.evaluate(X_test, y_test)"
      ],
      "execution_count": 21,
      "outputs": [
        {
          "output_type": "stream",
          "text": [
            "Model: \"sequential_1\"\n",
            "_________________________________________________________________\n",
            "Layer (type)                 Output Shape              Param #   \n",
            "=================================================================\n",
            "dense_4 (Dense)              (None, 512)               13824     \n",
            "_________________________________________________________________\n",
            "dense_5 (Dense)              (None, 256)               131328    \n",
            "_________________________________________________________________\n",
            "dense_6 (Dense)              (None, 128)               32896     \n",
            "_________________________________________________________________\n",
            "dense_7 (Dense)              (None, 64)                8256      \n",
            "_________________________________________________________________\n",
            "dense_8 (Dense)              (None, 10)                650       \n",
            "=================================================================\n",
            "Total params: 186,954\n",
            "Trainable params: 186,954\n",
            "Non-trainable params: 0\n",
            "_________________________________________________________________\n",
            "Epoch 1/30\n",
            "2/2 [==============================] - 0s 64ms/step - loss: 2.3077 - accuracy: 0.1250 - val_loss: 2.1401 - val_accuracy: 0.3250\n",
            "Epoch 2/30\n",
            "2/2 [==============================] - 0s 22ms/step - loss: 2.1272 - accuracy: 0.3400 - val_loss: 1.9910 - val_accuracy: 0.3500\n",
            "Epoch 3/30\n",
            "2/2 [==============================] - 0s 21ms/step - loss: 1.9741 - accuracy: 0.3833 - val_loss: 1.8381 - val_accuracy: 0.3750\n",
            "Epoch 4/30\n",
            "2/2 [==============================] - 0s 22ms/step - loss: 1.8175 - accuracy: 0.3917 - val_loss: 1.7000 - val_accuracy: 0.4000\n",
            "Epoch 5/30\n",
            "2/2 [==============================] - 0s 90ms/step - loss: 1.6705 - accuracy: 0.4233 - val_loss: 1.6066 - val_accuracy: 0.4000\n",
            "Epoch 6/30\n",
            "2/2 [==============================] - 0s 24ms/step - loss: 1.5488 - accuracy: 0.4633 - val_loss: 1.5239 - val_accuracy: 0.4450\n",
            "Epoch 7/30\n",
            "2/2 [==============================] - 0s 21ms/step - loss: 1.4412 - accuracy: 0.4933 - val_loss: 1.4250 - val_accuracy: 0.4900\n",
            "Epoch 8/30\n",
            "2/2 [==============================] - 0s 21ms/step - loss: 1.3428 - accuracy: 0.5600 - val_loss: 1.3430 - val_accuracy: 0.5150\n",
            "Epoch 9/30\n",
            "2/2 [==============================] - 0s 21ms/step - loss: 1.2575 - accuracy: 0.6017 - val_loss: 1.2887 - val_accuracy: 0.5250\n",
            "Epoch 10/30\n",
            "2/2 [==============================] - 0s 21ms/step - loss: 1.1823 - accuracy: 0.6117 - val_loss: 1.2263 - val_accuracy: 0.5350\n",
            "Epoch 11/30\n",
            "2/2 [==============================] - 0s 23ms/step - loss: 1.1312 - accuracy: 0.6183 - val_loss: 1.1893 - val_accuracy: 0.5550\n",
            "Epoch 12/30\n",
            "2/2 [==============================] - 0s 20ms/step - loss: 1.0802 - accuracy: 0.6133 - val_loss: 1.1762 - val_accuracy: 0.5700\n",
            "Epoch 13/30\n",
            "2/2 [==============================] - 0s 25ms/step - loss: 1.0314 - accuracy: 0.6717 - val_loss: 1.1871 - val_accuracy: 0.5800\n",
            "Epoch 14/30\n",
            "2/2 [==============================] - 0s 25ms/step - loss: 0.9933 - accuracy: 0.6817 - val_loss: 1.1485 - val_accuracy: 0.6050\n",
            "Epoch 15/30\n",
            "2/2 [==============================] - 0s 23ms/step - loss: 0.9245 - accuracy: 0.6983 - val_loss: 1.1228 - val_accuracy: 0.6050\n",
            "Epoch 16/30\n",
            "2/2 [==============================] - 0s 22ms/step - loss: 0.8988 - accuracy: 0.7000 - val_loss: 1.0956 - val_accuracy: 0.6250\n",
            "Epoch 17/30\n",
            "2/2 [==============================] - 0s 21ms/step - loss: 0.8487 - accuracy: 0.7317 - val_loss: 1.1174 - val_accuracy: 0.6500\n",
            "Epoch 18/30\n",
            "2/2 [==============================] - 0s 23ms/step - loss: 0.8102 - accuracy: 0.7500 - val_loss: 1.1289 - val_accuracy: 0.6450\n",
            "Epoch 19/30\n",
            "2/2 [==============================] - 0s 22ms/step - loss: 0.7877 - accuracy: 0.7533 - val_loss: 1.0635 - val_accuracy: 0.6500\n",
            "Epoch 20/30\n",
            "2/2 [==============================] - 0s 24ms/step - loss: 0.7426 - accuracy: 0.7717 - val_loss: 1.0473 - val_accuracy: 0.6600\n",
            "Epoch 21/30\n",
            "2/2 [==============================] - 0s 21ms/step - loss: 0.7103 - accuracy: 0.7783 - val_loss: 1.0720 - val_accuracy: 0.6550\n",
            "Epoch 22/30\n",
            "2/2 [==============================] - 0s 26ms/step - loss: 0.6849 - accuracy: 0.7883 - val_loss: 1.0692 - val_accuracy: 0.6450\n",
            "Epoch 23/30\n",
            "2/2 [==============================] - 0s 27ms/step - loss: 0.6447 - accuracy: 0.8083 - val_loss: 1.0854 - val_accuracy: 0.6050\n",
            "Epoch 24/30\n",
            "2/2 [==============================] - 0s 24ms/step - loss: 0.6400 - accuracy: 0.7967 - val_loss: 1.0989 - val_accuracy: 0.6250\n",
            "Epoch 25/30\n",
            "2/2 [==============================] - 0s 23ms/step - loss: 0.6149 - accuracy: 0.8100 - val_loss: 1.1020 - val_accuracy: 0.6550\n",
            "Epoch 26/30\n",
            "2/2 [==============================] - 0s 21ms/step - loss: 0.5889 - accuracy: 0.8117 - val_loss: 1.0667 - val_accuracy: 0.6750\n",
            "Epoch 27/30\n",
            "2/2 [==============================] - 0s 22ms/step - loss: 0.5565 - accuracy: 0.8400 - val_loss: 1.0801 - val_accuracy: 0.6450\n",
            "Epoch 28/30\n",
            "2/2 [==============================] - 0s 24ms/step - loss: 0.5350 - accuracy: 0.8383 - val_loss: 1.1074 - val_accuracy: 0.6400\n",
            "Epoch 29/30\n",
            "2/2 [==============================] - 0s 21ms/step - loss: 0.5063 - accuracy: 0.8450 - val_loss: 1.1194 - val_accuracy: 0.6600\n",
            "Epoch 30/30\n",
            "2/2 [==============================] - 0s 22ms/step - loss: 0.4832 - accuracy: 0.8567 - val_loss: 1.0910 - val_accuracy: 0.6450\n",
            "7/7 [==============================] - 0s 2ms/step - loss: 1.0859 - accuracy: 0.6600\n"
          ],
          "name": "stdout"
        }
      ]
    },
    {
      "cell_type": "markdown",
      "metadata": {
        "colab_type": "text",
        "id": "dljqHfDPI6lH"
      },
      "source": [
        ""
      ]
    },
    {
      "cell_type": "code",
      "metadata": {
        "colab_type": "code",
        "id": "Mvi9it1SI4aR",
        "outputId": "48b71811-343c-4410-906b-4c1b5ea43673",
        "colab": {
          "base_uri": "https://localhost:8080/",
          "height": 34
        }
      },
      "source": [
        "results"
      ],
      "execution_count": 22,
      "outputs": [
        {
          "output_type": "execute_result",
          "data": {
            "text/plain": [
              "[1.085922360420227, 0.6600000262260437]"
            ]
          },
          "metadata": {
            "tags": []
          },
          "execution_count": 22
        }
      ]
    },
    {
      "cell_type": "markdown",
      "metadata": {
        "colab_type": "text",
        "id": "r3hb8s1l4rBA"
      },
      "source": [
        "## Predictions on Test Data"
      ]
    },
    {
      "cell_type": "code",
      "metadata": {
        "colab_type": "code",
        "id": "gudBAhIXJIi2",
        "colab": {}
      },
      "source": [
        "predictions = model.predict(X_test)"
      ],
      "execution_count": 0,
      "outputs": []
    },
    {
      "cell_type": "code",
      "metadata": {
        "colab_type": "code",
        "id": "Xb7bVPSwJQF0",
        "outputId": "69b7e219-fe89-4cac-ecd0-a2b8992e89ab",
        "colab": {
          "base_uri": "https://localhost:8080/",
          "height": 34
        }
      },
      "source": [
        "predictions.shape"
      ],
      "execution_count": 51,
      "outputs": [
        {
          "output_type": "execute_result",
          "data": {
            "text/plain": [
              "(200, 10)"
            ]
          },
          "metadata": {
            "tags": []
          },
          "execution_count": 51
        }
      ]
    },
    {
      "cell_type": "code",
      "metadata": {
        "id": "HRnyAg3ZP4kX",
        "colab_type": "code",
        "colab": {}
      },
      "source": [
        "predictions_df = pd.DataFrame(data=predictions, columns=[\"blues\", \"classical\", \"country\", \"disco\", \"hiphop\", \"jazz\" ,\"metal\", \"pop\" ,\"reggae\", \"rock\"])"
      ],
      "execution_count": 0,
      "outputs": []
    },
    {
      "cell_type": "code",
      "metadata": {
        "id": "0sUHo7pnO8t9",
        "colab_type": "code",
        "colab": {}
      },
      "source": [
        "y_test_reshaped = y_test.reshape(200,1)"
      ],
      "execution_count": 0,
      "outputs": []
    },
    {
      "cell_type": "code",
      "metadata": {
        "id": "o5QSWYeCOa-h",
        "colab_type": "code",
        "colab": {
          "base_uri": "https://localhost:8080/",
          "height": 34
        },
        "outputId": "60e6c8cd-127b-457f-98ae-454dfb9b9d0a"
      },
      "source": [
        "y_test[5]"
      ],
      "execution_count": 41,
      "outputs": [
        {
          "output_type": "execute_result",
          "data": {
            "text/plain": [
              "7"
            ]
          },
          "metadata": {
            "tags": []
          },
          "execution_count": 41
        }
      ]
    },
    {
      "cell_type": "code",
      "metadata": {
        "id": "a6SOyETIOxwg",
        "colab_type": "code",
        "colab": {}
      },
      "source": [
        "y_test_df = pd.DataFrame(data=y_test_reshaped, columns=[\"Genre\"])"
      ],
      "execution_count": 0,
      "outputs": []
    },
    {
      "cell_type": "code",
      "metadata": {
        "id": "jGdbtpmIPqRb",
        "colab_type": "code",
        "colab": {
          "base_uri": "https://localhost:8080/",
          "height": 204
        },
        "outputId": "9e409fa6-6d0d-4126-8282-745033c873d0"
      },
      "source": [
        "y_test_df.head(5)"
      ],
      "execution_count": 53,
      "outputs": [
        {
          "output_type": "execute_result",
          "data": {
            "text/html": [
              "<div>\n",
              "<style scoped>\n",
              "    .dataframe tbody tr th:only-of-type {\n",
              "        vertical-align: middle;\n",
              "    }\n",
              "\n",
              "    .dataframe tbody tr th {\n",
              "        vertical-align: top;\n",
              "    }\n",
              "\n",
              "    .dataframe thead th {\n",
              "        text-align: right;\n",
              "    }\n",
              "</style>\n",
              "<table border=\"1\" class=\"dataframe\">\n",
              "  <thead>\n",
              "    <tr style=\"text-align: right;\">\n",
              "      <th></th>\n",
              "      <th>Genre</th>\n",
              "    </tr>\n",
              "  </thead>\n",
              "  <tbody>\n",
              "    <tr>\n",
              "      <th>0</th>\n",
              "      <td>9</td>\n",
              "    </tr>\n",
              "    <tr>\n",
              "      <th>1</th>\n",
              "      <td>5</td>\n",
              "    </tr>\n",
              "    <tr>\n",
              "      <th>2</th>\n",
              "      <td>9</td>\n",
              "    </tr>\n",
              "    <tr>\n",
              "      <th>3</th>\n",
              "      <td>6</td>\n",
              "    </tr>\n",
              "    <tr>\n",
              "      <th>4</th>\n",
              "      <td>7</td>\n",
              "    </tr>\n",
              "  </tbody>\n",
              "</table>\n",
              "</div>"
            ],
            "text/plain": [
              "   Genre\n",
              "0      9\n",
              "1      5\n",
              "2      9\n",
              "3      6\n",
              "4      7"
            ]
          },
          "metadata": {
            "tags": []
          },
          "execution_count": 53
        }
      ]
    },
    {
      "cell_type": "code",
      "metadata": {
        "id": "IT9ya7bmQSgm",
        "colab_type": "code",
        "colab": {
          "base_uri": "https://localhost:8080/",
          "height": 204
        },
        "outputId": "a2d6c69a-9183-4893-9289-0dabd9e2ef7c"
      },
      "source": [
        "predictions_df.head(5)"
      ],
      "execution_count": 55,
      "outputs": [
        {
          "output_type": "execute_result",
          "data": {
            "text/html": [
              "<div>\n",
              "<style scoped>\n",
              "    .dataframe tbody tr th:only-of-type {\n",
              "        vertical-align: middle;\n",
              "    }\n",
              "\n",
              "    .dataframe tbody tr th {\n",
              "        vertical-align: top;\n",
              "    }\n",
              "\n",
              "    .dataframe thead th {\n",
              "        text-align: right;\n",
              "    }\n",
              "</style>\n",
              "<table border=\"1\" class=\"dataframe\">\n",
              "  <thead>\n",
              "    <tr style=\"text-align: right;\">\n",
              "      <th></th>\n",
              "      <th>blues</th>\n",
              "      <th>classical</th>\n",
              "      <th>country</th>\n",
              "      <th>disco</th>\n",
              "      <th>hiphop</th>\n",
              "      <th>jazz</th>\n",
              "      <th>metal</th>\n",
              "      <th>pop</th>\n",
              "      <th>reggae</th>\n",
              "      <th>rock</th>\n",
              "    </tr>\n",
              "  </thead>\n",
              "  <tbody>\n",
              "    <tr>\n",
              "      <th>0</th>\n",
              "      <td>0.239983</td>\n",
              "      <td>4.063697e-06</td>\n",
              "      <td>0.039617</td>\n",
              "      <td>0.043176</td>\n",
              "      <td>0.002523</td>\n",
              "      <td>4.534646e-05</td>\n",
              "      <td>0.035253</td>\n",
              "      <td>1.628708e-07</td>\n",
              "      <td>0.000333</td>\n",
              "      <td>0.639066</td>\n",
              "    </tr>\n",
              "    <tr>\n",
              "      <th>1</th>\n",
              "      <td>0.004778</td>\n",
              "      <td>2.169760e-05</td>\n",
              "      <td>0.000445</td>\n",
              "      <td>0.944981</td>\n",
              "      <td>0.020508</td>\n",
              "      <td>3.443985e-04</td>\n",
              "      <td>0.019477</td>\n",
              "      <td>7.363028e-06</td>\n",
              "      <td>0.001929</td>\n",
              "      <td>0.007509</td>\n",
              "    </tr>\n",
              "    <tr>\n",
              "      <th>2</th>\n",
              "      <td>0.214651</td>\n",
              "      <td>4.425238e-06</td>\n",
              "      <td>0.006794</td>\n",
              "      <td>0.056721</td>\n",
              "      <td>0.000225</td>\n",
              "      <td>1.006219e-05</td>\n",
              "      <td>0.002548</td>\n",
              "      <td>2.208987e-07</td>\n",
              "      <td>0.000208</td>\n",
              "      <td>0.718839</td>\n",
              "    </tr>\n",
              "    <tr>\n",
              "      <th>3</th>\n",
              "      <td>0.008018</td>\n",
              "      <td>2.270200e-07</td>\n",
              "      <td>0.000119</td>\n",
              "      <td>0.012862</td>\n",
              "      <td>0.003008</td>\n",
              "      <td>6.622823e-07</td>\n",
              "      <td>0.969825</td>\n",
              "      <td>2.149173e-09</td>\n",
              "      <td>0.000167</td>\n",
              "      <td>0.006000</td>\n",
              "    </tr>\n",
              "    <tr>\n",
              "      <th>4</th>\n",
              "      <td>0.000004</td>\n",
              "      <td>7.691076e-06</td>\n",
              "      <td>0.017425</td>\n",
              "      <td>0.172613</td>\n",
              "      <td>0.015555</td>\n",
              "      <td>5.011406e-04</td>\n",
              "      <td>0.000028</td>\n",
              "      <td>7.577910e-01</td>\n",
              "      <td>0.003517</td>\n",
              "      <td>0.032559</td>\n",
              "    </tr>\n",
              "  </tbody>\n",
              "</table>\n",
              "</div>"
            ],
            "text/plain": [
              "      blues     classical   country  ...           pop    reggae      rock\n",
              "0  0.239983  4.063697e-06  0.039617  ...  1.628708e-07  0.000333  0.639066\n",
              "1  0.004778  2.169760e-05  0.000445  ...  7.363028e-06  0.001929  0.007509\n",
              "2  0.214651  4.425238e-06  0.006794  ...  2.208987e-07  0.000208  0.718839\n",
              "3  0.008018  2.270200e-07  0.000119  ...  2.149173e-09  0.000167  0.006000\n",
              "4  0.000004  7.691076e-06  0.017425  ...  7.577910e-01  0.003517  0.032559\n",
              "\n",
              "[5 rows x 10 columns]"
            ]
          },
          "metadata": {
            "tags": []
          },
          "execution_count": 55
        }
      ]
    },
    {
      "cell_type": "code",
      "metadata": {
        "id": "4NB36-raNdzd",
        "colab_type": "code",
        "colab": {
          "base_uri": "https://localhost:8080/",
          "height": 34
        },
        "outputId": "6911ebcf-5d5e-4639-da40-07af0c5f5312"
      },
      "source": [
        "np.argmax(predictions[1])"
      ],
      "execution_count": 58,
      "outputs": [
        {
          "output_type": "execute_result",
          "data": {
            "text/plain": [
              "3"
            ]
          },
          "metadata": {
            "tags": []
          },
          "execution_count": 58
        }
      ]
    },
    {
      "cell_type": "code",
      "metadata": {
        "colab_type": "code",
        "id": "0eoEuSZqJTdU",
        "outputId": "c167293e-72da-43a9-bff4-7c393c8b4581",
        "colab": {
          "base_uri": "https://localhost:8080/",
          "height": 34
        }
      },
      "source": [
        "np.argmax(predictions[0])"
      ],
      "execution_count": 26,
      "outputs": [
        {
          "output_type": "execute_result",
          "data": {
            "text/plain": [
              "9"
            ]
          },
          "metadata": {
            "tags": []
          },
          "execution_count": 26
        }
      ]
    },
    {
      "cell_type": "code",
      "metadata": {
        "colab_type": "code",
        "id": "Utgt1bXfJVRN",
        "colab": {
          "base_uri": "https://localhost:8080/",
          "height": 34
        },
        "outputId": "76da15af-6e1f-4345-fe1a-4f53cab7f918"
      },
      "source": [
        "#print the genre equivalent of the prediction\n",
        "i = np.argmax(predictions[0])\n",
        "genres = [\"blues\", \"classical\", \"country\", \"disco\", \"hiphop\", \"jazz\" ,\"metal\", \"pop\" ,\"reggae\", \"rock\"]\n",
        "print(genres[i])"
      ],
      "execution_count": 60,
      "outputs": [
        {
          "output_type": "stream",
          "text": [
            "rock\n"
          ],
          "name": "stdout"
        }
      ]
    },
    {
      "cell_type": "code",
      "metadata": {
        "id": "0_DJiQypSRsq",
        "colab_type": "code",
        "colab": {}
      },
      "source": [
        ""
      ],
      "execution_count": 0,
      "outputs": []
    }
  ]
}